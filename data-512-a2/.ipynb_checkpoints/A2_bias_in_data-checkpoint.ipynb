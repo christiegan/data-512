{
 "cells": [
  {
   "cell_type": "markdown",
   "metadata": {},
   "source": [
    "## Christie Gan\n",
    "### 10/17/20\n",
    "\n",
    "### Examining biases of Crowdflower workers when flagging aggressive or toxic comments\n",
    "\n",
    "#### Extract Data"
   ]
  },
  {
   "cell_type": "code",
   "execution_count": 34,
   "metadata": {},
   "outputs": [
    {
     "name": "stdout",
     "output_type": "stream",
     "text": [
      "           rev_id                                            comment  year  \\\n",
      "0           37675  `-NEWLINE_TOKENThis is not ``creative``.  Thos...  2002   \n",
      "1           44816  `NEWLINE_TOKENNEWLINE_TOKEN:: the term ``stand...  2002   \n",
      "2           49851  NEWLINE_TOKENNEWLINE_TOKENTrue or false, the s...  2002   \n",
      "3           89320   Next, maybe you could work on being less cond...  2002   \n",
      "4           93890               This page will need disambiguation.   2002   \n",
      "...           ...                                                ...   ...   \n",
      "115859  699848324  `NEWLINE_TOKENNEWLINE_TOKENNEWLINE_TOKENThese ...  2016   \n",
      "115860  699851288  NEWLINE_TOKENNEWLINE_TOKENThe Institute for Hi...  2016   \n",
      "115861  699857133  NEWLINE_TOKEN:The way you're trying to describ...  2016   \n",
      "115862  699891012  NEWLINE_TOKENNEWLINE_TOKEN== Warning ==NEWLINE...  2016   \n",
      "115863  699897151  Alternate option===NEWLINE_TOKENIs there perha...  2016   \n",
      "\n",
      "        logged_in       ns   sample  split  \n",
      "0            True  article   random  train  \n",
      "1            True  article   random  train  \n",
      "2            True  article   random  train  \n",
      "3            True  article   random    dev  \n",
      "4            True  article   random  train  \n",
      "...           ...      ...      ...    ...  \n",
      "115859       True  article  blocked  train  \n",
      "115860       True  article  blocked   test  \n",
      "115861       True  article  blocked  train  \n",
      "115862       True     user  blocked    dev  \n",
      "115863       True  article  blocked  train  \n",
      "\n",
      "[115864 rows x 7 columns]\n"
     ]
    }
   ],
   "source": [
    "import pandas as pd\n",
    "\n",
    "#load aggression datasets\n",
    "aggression_annotations = pd.read_csv('aggression_annotations.tsv',delimiter='\\t',encoding='utf-8')\n",
    "aggression_annotated_comments = pd.read_csv('aggression_annotated_comments.tsv',delimiter='\\t',encoding='utf-8')\n",
    "aggression_worker_demographics = pd.read_csv('aggression_worker_demographics.tsv',delimiter='\\t',encoding='utf-8')\n",
    "\n",
    "#load toxicity datasets\n",
    "toxicity_annotations = pd.read_csv('toxicity_annotations.tsv',delimiter='\\t',encoding='utf-8')\n",
    "toxicity_annotated_comments = pd.read_csv('toxicity_annotated_comments.tsv',delimiter='\\t',encoding='utf-8')\n",
    "toxicity_worker_demographics = pd.read_csv('toxicity_worker_demographics.tsv',delimiter='\\t',encoding='utf-8')\n",
    "\n",
    "print(aggression_annotated_comments)"
   ]
  },
  {
   "cell_type": "code",
   "execution_count": 181,
   "metadata": {
    "scrolled": true
   },
   "outputs": [
    {
     "name": "stdout",
     "output_type": "stream",
     "text": [
      "           aggression  aggression_score  \\\n",
      "worker_id                                 \n",
      "0                 0.0               0.0   \n",
      "0                 0.0               0.0   \n",
      "0                 1.0              -1.0   \n",
      "0                 0.0               0.0   \n",
      "0                 0.0               0.0   \n",
      "\n",
      "                                                     comment  year  logged_in  \\\n",
      "worker_id                                                                       \n",
      "0          NEWLINE_TOKENNEWLINE_TOKENHi AlexNEWLINE_TOKEN...  2002       True   \n",
      "0          ```Although they may be based on...``  What is...  2004       True   \n",
      "0          `NEWLINE_TOKENNEWLINE_TOKEN:::Rex, your viciou...  2004       True   \n",
      "0          `NEWLINE_TOKENNEWLINE_TOKEN== Some things to n...  2005       True   \n",
      "0          NEWLINE_TOKENNEWLINE_TOKEN==Internet Explorer=...  2005       True   \n",
      "\n",
      "                ns   sample  split gender  english_first_language age_group  \\\n",
      "worker_id                                                                     \n",
      "0             user   random  train   male                     0.0     18-30   \n",
      "0          article   random  train   male                     0.0     18-30   \n",
      "0          article   random  train   male                     0.0     18-30   \n",
      "0          article  blocked  train   male                     0.0     18-30   \n",
      "0             user   random   test   male                     0.0     18-30   \n",
      "\n",
      "          education  \n",
      "worker_id            \n",
      "0                hs  \n",
      "0                hs  \n",
      "0                hs  \n",
      "0                hs  \n",
      "0                hs  \n",
      "           toxicity  toxicity_score  \\\n",
      "worker_id                             \n",
      "0                 0             0.0   \n",
      "0                 0             0.0   \n",
      "0                 0             0.0   \n",
      "0                 0             0.0   \n",
      "0                 0             0.0   \n",
      "\n",
      "                                                     comment  year  logged_in  \\\n",
      "worker_id                                                                       \n",
      "0          NEWLINE_TOKENNEWLINE_TOKENWell, Ayn Rand certa...  2002       True   \n",
      "0                   NEWLINE_TOKENNEWLINE_TOKENSpoilsport.     2003       True   \n",
      "0          NEWLINE_TOKEN:I think the more common term for...  2003       True   \n",
      "0          `==Bands in the ``Thunderbirds`` video==NEWLIN...  2004       True   \n",
      "0          NEWLINE_TOKENNEWLINE_TOKEN::Actually it was se...  2005       True   \n",
      "\n",
      "                ns  sample  split gender  english_first_language age_group  \\\n",
      "worker_id                                                                    \n",
      "0          article  random  train   male                     0.0     30-45   \n",
      "0             user  random   test   male                     0.0     30-45   \n",
      "0          article  random    dev   male                     0.0     30-45   \n",
      "0             user  random  train   male                     0.0     30-45   \n",
      "0          article  random  train   male                     0.0     30-45   \n",
      "\n",
      "              education  \n",
      "worker_id                \n",
      "0          professional  \n",
      "0          professional  \n",
      "0          professional  \n",
      "0          professional  \n",
      "0          professional  \n"
     ]
    }
   ],
   "source": [
    "#create two datasets for aggression and toxicity\n",
    "aggression = aggression_annotations.set_index('rev_id').join(aggression_annotated_comments.set_index('rev_id'))\n",
    "aggression_data = aggression.set_index('worker_id').join(aggression_worker_demographics.set_index('worker_id'))\n",
    "print(aggression_data.head())\n",
    "\n",
    "toxicity = toxicity_annotations.set_index('rev_id').join(toxicity_annotated_comments.set_index('rev_id'))\n",
    "toxicity_data = toxicity.set_index('worker_id').join(toxicity_worker_demographics.set_index('worker_id'))\n",
    "print(toxicity_data.head())\n"
   ]
  },
  {
   "cell_type": "markdown",
   "metadata": {},
   "source": [
    "### Part 1: Analyzing one dataset - Aggression\n",
    "\n",
    "How does Crowdflower workers' demographics affect their labelling of aggression?\n",
    "\n",
    "We want to examine the worker's gender, age group and education level. Based on these categories, is there a bias towards labelling a certain way? Let's take a look."
   ]
  },
  {
   "cell_type": "markdown",
   "metadata": {},
   "source": [
    "#### Data Exploration"
   ]
  },
  {
   "cell_type": "code",
   "execution_count": 73,
   "metadata": {},
   "outputs": [
    {
     "name": "stdout",
     "output_type": "stream",
     "text": [
      "gender\n",
      "female    308103\n",
      "male      547328\n",
      "other         83\n",
      "Name: aggression, dtype: int64\n",
      "age_group\n",
      "18-30       391192\n",
      "30-45       357584\n",
      "45-60        77313\n",
      "Over 60       7841\n",
      "Under 18      9577\n",
      "Name: aggression, dtype: int64\n",
      "education\n",
      "bachelors       346216\n",
      "doctorate         7613\n",
      "hs              238279\n",
      "masters         152240\n",
      "none                95\n",
      "professional     93346\n",
      "some             17725\n",
      "Name: aggression, dtype: int64\n",
      "gender\n",
      "female    60602.0\n",
      "male      96127.0\n",
      "other        37.0\n",
      "Name: aggression, dtype: float64\n",
      "age_group\n",
      "18-30       65561.0\n",
      "30-45       68073.0\n",
      "45-60       18241.0\n",
      "Over 60      1855.0\n",
      "Under 18     1252.0\n",
      "Name: aggression, dtype: float64\n",
      "education\n",
      "bachelors       62871.0\n",
      "doctorate        1512.0\n",
      "hs              43850.0\n",
      "masters         27943.0\n",
      "none                8.0\n",
      "professional    17555.0\n",
      "some             3027.0\n",
      "Name: aggression, dtype: float64\n",
      "aggression_score  gender\n",
      "-3.0              female     14386\n",
      "                  male       21482\n",
      "                  other          5\n",
      "-2.0              female     13653\n",
      "                  male       23766\n",
      "                  other          8\n",
      "-1.0              female     32563\n",
      "                  male       50879\n",
      "                  other         24\n",
      " 0.0              female    225138\n",
      "                  male      398835\n",
      "                  other         40\n",
      " 1.0              female     15535\n",
      "                  male       35875\n",
      "                  other          4\n",
      " 2.0              female      4698\n",
      "                  male       12105\n",
      "                  other          2\n",
      " 3.0              female      2130\n",
      "                  male        4386\n",
      "Name: aggression, dtype: int64\n",
      "aggression_score  age_group\n",
      "-3.0              18-30         16825\n",
      "                  30-45         14051\n",
      "                  45-60          3865\n",
      "                  Over 60         402\n",
      "                  Under 18        272\n",
      "-2.0              18-30         16182\n",
      "                  30-45         16149\n",
      "                  45-60          3826\n",
      "                  Over 60         559\n",
      "                  Under 18        317\n",
      "-1.0              18-30         32554\n",
      "                  30-45         37873\n",
      "                  45-60         10550\n",
      "                  Over 60         894\n",
      "                  Under 18        663\n",
      " 0.0              18-30        295646\n",
      "                  30-45        254969\n",
      "                  45-60         51976\n",
      "                  Over 60        5002\n",
      "                  Under 18       6919\n",
      " 1.0              18-30         20272\n",
      "                  30-45         23796\n",
      "                  45-60          5109\n",
      "                  Over 60         579\n",
      "                  Under 18       1174\n",
      " 2.0              18-30          7278\n",
      "                  30-45          7513\n",
      "                  45-60          1369\n",
      "                  Over 60         314\n",
      "                  Under 18        157\n",
      " 3.0              18-30          2435\n",
      "                  30-45          3233\n",
      "                  45-60           618\n",
      "                  Over 60          91\n",
      "                  Under 18         75\n",
      "Name: aggression, dtype: int64\n",
      "aggression_score  education   \n",
      "-3.0              bachelors        15434\n",
      "                  doctorate          349\n",
      "                  hs                9328\n",
      "                  masters           6096\n",
      "                  none                 1\n",
      "                  professional      3778\n",
      "                  some               887\n",
      "-2.0              bachelors        14578\n",
      "                  doctorate          380\n",
      "                  hs               10525\n",
      "                  masters           6953\n",
      "                  professional      4231\n",
      "                  some               760\n",
      "-1.0              bachelors        32859\n",
      "                  doctorate          783\n",
      "                  hs               23997\n",
      "                  masters          14894\n",
      "                  none                 7\n",
      "                  professional      9546\n",
      "                  some              1380\n",
      " 0.0              bachelors       252396\n",
      "                  doctorate         5216\n",
      "                  hs              173507\n",
      "                  masters         112858\n",
      "                  none                64\n",
      "                  professional     67085\n",
      "                  some             12887\n",
      " 1.0              bachelors        20804\n",
      "                  doctorate          391\n",
      "                  hs               14875\n",
      "                  masters           7949\n",
      "                  none                23\n",
      "                  professional      6380\n",
      "                  some               992\n",
      " 2.0              bachelors         7504\n",
      "                  doctorate          173\n",
      "                  hs                3987\n",
      "                  masters           2699\n",
      "                  professional      1854\n",
      "                  some               588\n",
      " 3.0              bachelors         2641\n",
      "                  doctorate          321\n",
      "                  hs                2060\n",
      "                  masters            791\n",
      "                  professional       472\n",
      "                  some               231\n",
      "Name: aggression, dtype: int64\n"
     ]
    }
   ],
   "source": [
    "#stats\n",
    "\n",
    "#count of how many people are in each demographic\n",
    "print(aggression_data.groupby(['gender'])['aggression'].count())\n",
    "print(aggression_data.groupby(['age_group'])['aggression'].count())\n",
    "print(aggression_data.groupby(['education'])['aggression'].count())\n",
    "\n",
    "#number of aggressive flags (1) in each demographic\n",
    "print(aggression_data.groupby(['gender'])['aggression'].agg('sum'))\n",
    "print(aggression_data.groupby(['age_group'])['aggression'].agg('sum'))\n",
    "print(aggression_data.groupby(['education'])['aggression'].agg('sum'))\n",
    "\n",
    "\n",
    "#let's narrow down to the aggression_score: very aggressive (-3), to neutral (0), to very friendly (3)\n",
    "#instead of summing the values (the negative scores can cancel out a lot of the positive scores and lead to ambiguity)\n",
    "#we want to categorize how many types of people flag these labels\n",
    "print(aggression_data.groupby(['aggression_score', 'gender']).count()['aggression'])\n",
    "print(aggression_data.groupby(['aggression_score', 'age_group']).count()['aggression'])\n",
    "print(aggression_data.groupby(['aggression_score', 'education']).count()['aggression'])"
   ]
  },
  {
   "cell_type": "markdown",
   "metadata": {},
   "source": [
    "From a cursory glance, it looks like 30-45 males have labelled more aggressive flags (1), and bachelor degree holders tend to label more aggressive flags (1). As for the aggression score breakdown, it seems that the highest count of a aggressive score category is 0.0, which is neutral. We can tentively say that the most common aggressive score is 0.0, and the 30-45 bachelor holding males tend to have more aggressive labels. But also since the number of people in each demographic varies a lot (there is an unequal number of people in each category), we have to do some t-test and/or ANOVA tests to see if there is truly a significant difference of labelling."
   ]
  },
  {
   "cell_type": "markdown",
   "metadata": {},
   "source": [
    "#### Data Analysis\n",
    "##### Gender"
   ]
  },
  {
   "cell_type": "code",
   "execution_count": 58,
   "metadata": {},
   "outputs": [
    {
     "name": "stdout",
     "output_type": "stream",
     "text": [
      "gender\n",
      "female    [0.0, 0.0, 0.0, 0.0, 0.0, 0.0, -3.0, -3.0, 0.0...\n",
      "male      [0.0, 0.0, -1.0, 0.0, 0.0, 0.0, 0.0, 0.0, 0.0,...\n",
      "other     [0.0, 2.0, 0.0, 1.0, -2.0, 0.0, 0.0, 0.0, -3.0...\n",
      "Name: aggression_score, dtype: object\n",
      "Ttest_indResult(statistic=-33.82418032106938, pvalue=1.2759660058588266e-250)\n"
     ]
    },
    {
     "data": {
      "text/html": [
       "<div>\n",
       "<style scoped>\n",
       "    .dataframe tbody tr th:only-of-type {\n",
       "        vertical-align: middle;\n",
       "    }\n",
       "\n",
       "    .dataframe tbody tr th {\n",
       "        vertical-align: top;\n",
       "    }\n",
       "\n",
       "    .dataframe thead th {\n",
       "        text-align: right;\n",
       "    }\n",
       "</style>\n",
       "<table border=\"1\" class=\"dataframe\">\n",
       "  <thead>\n",
       "    <tr style=\"text-align: right;\">\n",
       "      <th></th>\n",
       "      <th>df</th>\n",
       "      <th>sum_sq</th>\n",
       "      <th>mean_sq</th>\n",
       "      <th>F</th>\n",
       "      <th>PR(&gt;F)</th>\n",
       "    </tr>\n",
       "  </thead>\n",
       "  <tbody>\n",
       "    <tr>\n",
       "      <td>gender</td>\n",
       "      <td>2.0</td>\n",
       "      <td>950.492553</td>\n",
       "      <td>475.246276</td>\n",
       "      <td>579.236329</td>\n",
       "      <td>4.083448e-252</td>\n",
       "    </tr>\n",
       "    <tr>\n",
       "      <td>Residual</td>\n",
       "      <td>855511.0</td>\n",
       "      <td>701921.473466</td>\n",
       "      <td>0.820470</td>\n",
       "      <td>NaN</td>\n",
       "      <td>NaN</td>\n",
       "    </tr>\n",
       "  </tbody>\n",
       "</table>\n",
       "</div>"
      ],
      "text/plain": [
       "                df         sum_sq     mean_sq           F         PR(>F)\n",
       "gender         2.0     950.492553  475.246276  579.236329  4.083448e-252\n",
       "Residual  855511.0  701921.473466    0.820470         NaN            NaN"
      ]
     },
     "execution_count": 58,
     "metadata": {},
     "output_type": "execute_result"
    }
   ],
   "source": [
    "from scipy import stats\n",
    "from statsmodels.formula.api import ols\n",
    "import statsmodels.api as sm\n",
    "\n",
    "#t-test between male and female\n",
    "gender = aggression_data.groupby('gender')['aggression_score'].apply(list) \n",
    "print(gender)\n",
    "print(stats.ttest_ind(gender['female'], gender['male']))\n",
    "\n",
    "#anova test, including other\n",
    "model_gen = ols('aggression_score ~ gender', data=aggression_data).fit()\n",
    "anova_table_gen = sm.stats.anova_lm(model_gen)\n",
    "anova_table_gen"
   ]
  },
  {
   "cell_type": "markdown",
   "metadata": {},
   "source": [
    "##### Age Group"
   ]
  },
  {
   "cell_type": "code",
   "execution_count": 61,
   "metadata": {},
   "outputs": [
    {
     "data": {
      "text/html": [
       "<div>\n",
       "<style scoped>\n",
       "    .dataframe tbody tr th:only-of-type {\n",
       "        vertical-align: middle;\n",
       "    }\n",
       "\n",
       "    .dataframe tbody tr th {\n",
       "        vertical-align: top;\n",
       "    }\n",
       "\n",
       "    .dataframe thead th {\n",
       "        text-align: right;\n",
       "    }\n",
       "</style>\n",
       "<table border=\"1\" class=\"dataframe\">\n",
       "  <thead>\n",
       "    <tr style=\"text-align: right;\">\n",
       "      <th></th>\n",
       "      <th>df</th>\n",
       "      <th>sum_sq</th>\n",
       "      <th>mean_sq</th>\n",
       "      <th>F</th>\n",
       "      <th>PR(&gt;F)</th>\n",
       "    </tr>\n",
       "  </thead>\n",
       "  <tbody>\n",
       "    <tr>\n",
       "      <td>age_group</td>\n",
       "      <td>4.0</td>\n",
       "      <td>646.052454</td>\n",
       "      <td>161.513113</td>\n",
       "      <td>196.251649</td>\n",
       "      <td>1.628546e-168</td>\n",
       "    </tr>\n",
       "    <tr>\n",
       "      <td>Residual</td>\n",
       "      <td>843502.0</td>\n",
       "      <td>694193.576324</td>\n",
       "      <td>0.822990</td>\n",
       "      <td>NaN</td>\n",
       "      <td>NaN</td>\n",
       "    </tr>\n",
       "  </tbody>\n",
       "</table>\n",
       "</div>"
      ],
      "text/plain": [
       "                 df         sum_sq     mean_sq           F         PR(>F)\n",
       "age_group       4.0     646.052454  161.513113  196.251649  1.628546e-168\n",
       "Residual   843502.0  694193.576324    0.822990         NaN            NaN"
      ]
     },
     "execution_count": 61,
     "metadata": {},
     "output_type": "execute_result"
    }
   ],
   "source": [
    "#anova test\n",
    "model_age = ols('aggression_score ~ age_group', data=aggression_data).fit()\n",
    "anova_table_age = sm.stats.anova_lm(model_age)\n",
    "anova_table_age"
   ]
  },
  {
   "cell_type": "markdown",
   "metadata": {},
   "source": [
    "##### Education Level"
   ]
  },
  {
   "cell_type": "code",
   "execution_count": 63,
   "metadata": {},
   "outputs": [
    {
     "data": {
      "text/html": [
       "<div>\n",
       "<style scoped>\n",
       "    .dataframe tbody tr th:only-of-type {\n",
       "        vertical-align: middle;\n",
       "    }\n",
       "\n",
       "    .dataframe tbody tr th {\n",
       "        vertical-align: top;\n",
       "    }\n",
       "\n",
       "    .dataframe thead th {\n",
       "        text-align: right;\n",
       "    }\n",
       "</style>\n",
       "<table border=\"1\" class=\"dataframe\">\n",
       "  <thead>\n",
       "    <tr style=\"text-align: right;\">\n",
       "      <th></th>\n",
       "      <th>df</th>\n",
       "      <th>sum_sq</th>\n",
       "      <th>mean_sq</th>\n",
       "      <th>F</th>\n",
       "      <th>PR(&gt;F)</th>\n",
       "    </tr>\n",
       "  </thead>\n",
       "  <tbody>\n",
       "    <tr>\n",
       "      <td>education</td>\n",
       "      <td>6.0</td>\n",
       "      <td>124.578071</td>\n",
       "      <td>20.763012</td>\n",
       "      <td>25.276369</td>\n",
       "      <td>3.472967e-30</td>\n",
       "    </tr>\n",
       "    <tr>\n",
       "      <td>Residual</td>\n",
       "      <td>855507.0</td>\n",
       "      <td>702747.387948</td>\n",
       "      <td>0.821440</td>\n",
       "      <td>NaN</td>\n",
       "      <td>NaN</td>\n",
       "    </tr>\n",
       "  </tbody>\n",
       "</table>\n",
       "</div>"
      ],
      "text/plain": [
       "                 df         sum_sq    mean_sq          F        PR(>F)\n",
       "education       6.0     124.578071  20.763012  25.276369  3.472967e-30\n",
       "Residual   855507.0  702747.387948   0.821440        NaN           NaN"
      ]
     },
     "execution_count": 63,
     "metadata": {},
     "output_type": "execute_result"
    }
   ],
   "source": [
    "#anova test\n",
    "model_education = ols('aggression_score ~ education', data=aggression_data).fit()\n",
    "anova_table_education = sm.stats.anova_lm(model_education)\n",
    "anova_table_education"
   ]
  },
  {
   "cell_type": "markdown",
   "metadata": {},
   "source": [
    "Between the different genders, age groups, and education, we consistently find that the F statistic is very large and the p-value is less than 0.05, indicating evidence against the null hypothesis. The null hypothesis is that there is no significant difference between the means of different sample groups, but in this case, we reject the null hypothesis. We see that there is a significant difference between the demographics' mean aggression score in gender, age group and education levels. So we know that there is definetely biases going on. "
   ]
  },
  {
   "cell_type": "markdown",
   "metadata": {},
   "source": [
    "#### Data Visuals\n",
    "##### Gender"
   ]
  },
  {
   "cell_type": "code",
   "execution_count": 153,
   "metadata": {},
   "outputs": [
    {
     "name": "stdout",
     "output_type": "stream",
     "text": [
      "   gender  aggression_score\n",
      "0  female         -0.232734\n",
      "1    male         -0.163730\n",
      "2   other         -0.566265\n"
     ]
    },
    {
     "data": {
      "image/png": "[encoded data removed]",
      "text/plain": [
       "<Figure size 432x288 with 1 Axes>"
      ]
     },
     "metadata": {
      "needs_background": "light"
     },
     "output_type": "display_data"
    }
   ],
   "source": [
    "import matplotlib.pyplot as plt\n",
    "\n",
    "#barchart showing average aggression score between genders\n",
    "df_gender = aggression_data.groupby('gender', as_index=False).aggression_score.mean()\n",
    "print(df_gender)\n",
    "\n",
    "fig = plt.figure()\n",
    "ax = fig.add_axes([0,0,1,1])\n",
    "ax.bar(df_gender['gender'], df_gender['aggression_score'])\n",
    "ax.set_xlabel('Genders')\n",
    "ax.set_ylabel('Aggression Scores')\n",
    "ax.set_title('Average Aggression Scores by Gender')\n",
    "plt.show()"
   ]
  },
  {
   "cell_type": "markdown",
   "metadata": {},
   "source": [
    "##### Age Group"
   ]
  },
  {
   "cell_type": "code",
   "execution_count": 154,
   "metadata": {},
   "outputs": [
    {
     "name": "stdout",
     "output_type": "stream",
     "text": [
      "  age_group  aggression_score\n",
      "0     18-30         -0.187274\n",
      "1     30-45         -0.178428\n",
      "2     45-60         -0.259930\n",
      "3   Over 60         -0.221655\n",
      "4  Under 18         -0.041767\n"
     ]
    },
    {
     "data": {
      "image/png": "[encoded data removed]",
      "text/plain": [
       "<Figure size 432x288 with 1 Axes>"
      ]
     },
     "metadata": {
      "needs_background": "light"
     },
     "output_type": "display_data"
    }
   ],
   "source": [
    "#barchart showing average aggression score between age groups\n",
    "df_age = aggression_data.groupby('age_group', as_index=False).aggression_score.mean()\n",
    "print(df_age)\n",
    "\n",
    "fig = plt.figure()\n",
    "ax = fig.add_axes([0,0,1,1])\n",
    "ax.bar(df_age['age_group'], df_age['aggression_score'])\n",
    "ax.set_xlabel('Age Group')\n",
    "ax.set_ylabel('Aggression Scores')\n",
    "ax.set_title('Average Aggression Scores by Age Group')\n",
    "plt.show()"
   ]
  },
  {
   "cell_type": "markdown",
   "metadata": {},
   "source": [
    "##### Education Level"
   ]
  },
  {
   "cell_type": "code",
   "execution_count": 155,
   "metadata": {},
   "outputs": [
    {
     "name": "stdout",
     "output_type": "stream",
     "text": [
      "      education  aggression_score\n",
      "0     bachelors         -0.186537\n",
      "1     doctorate         -0.116905\n",
      "2            hs         -0.184666\n",
      "3       masters         -0.206043\n",
      "4          none          0.136842\n",
      "5  professional         -0.191095\n",
      "6          some         -0.152327\n"
     ]
    },
    {
     "data": {
      "image/png": "[encoded data removed]",
      "text/plain": [
       "<Figure size 432x288 with 1 Axes>"
      ]
     },
     "metadata": {
      "needs_background": "light"
     },
     "output_type": "display_data"
    }
   ],
   "source": [
    "#barchart showing average aggression score between education levels\n",
    "df_education = aggression_data.groupby('education', as_index=False).aggression_score.mean()\n",
    "print(df_education)\n",
    "\n",
    "fig = plt.figure()\n",
    "ax = fig.add_axes([0,0,1,1])\n",
    "ax.bar(df_education['education'], df_education['aggression_score'])\n",
    "ax.set_xlabel('Level of Education')\n",
    "ax.set_ylabel('Aggression Scores')\n",
    "ax.set_title('Average Aggression Scores by Education Level')\n",
    "plt.show()"
   ]
  },
  {
   "cell_type": "markdown",
   "metadata": {},
   "source": [
    "Based on these barchart visuals, we can see that our original observations, just from viewing raw data, is not as accurate as displaying visuals of averages. In fact, when we calculate the average score being marked by a demographic, the most aggressive scores tend to be people who are \"Other\" gender, in the 45-60 age group, and have a masters. The graphs tend to have negative averages, indicating that overall people are marking more harsher aggression scores than not."
   ]
  },
  {
   "cell_type": "markdown",
   "metadata": {},
   "source": [
    "### Part 2: Analyzing two datasets - Aggression and Toxicity \n",
    "\n",
    "Do certain Crowdflower workers' demographics tend to label more aggressive or more toxicity scores?\n",
    "\n",
    "We want to examine the worker's gender, age group and education level. Based on these categories, is there a bias thowards labelling a certain way? Let's take a look."
   ]
  },
  {
   "cell_type": "markdown",
   "metadata": {},
   "source": [
    "#### Data Exploration"
   ]
  },
  {
   "cell_type": "code",
   "execution_count": 75,
   "metadata": {},
   "outputs": [
    {
     "name": "stdout",
     "output_type": "stream",
     "text": [
      "gender\n",
      "female    457346\n",
      "male      889251\n",
      "other        358\n",
      "Name: toxicity, dtype: int64\n",
      "age_group\n",
      "18-30       708182\n",
      "30-45       468455\n",
      "45-60       103127\n",
      "Over 60       9717\n",
      "Under 18     28160\n",
      "Name: toxicity, dtype: int64\n",
      "education\n",
      "bachelors       540213\n",
      "doctorate        14583\n",
      "hs              381511\n",
      "masters         205425\n",
      "none               925\n",
      "professional    168456\n",
      "some             35842\n",
      "Name: toxicity, dtype: int64\n",
      "gender\n",
      "female     71846\n",
      "male      124394\n",
      "other         59\n",
      "Name: toxicity, dtype: int64\n",
      "age_group\n",
      "18-30       99976\n",
      "30-45       69997\n",
      "45-60       17145\n",
      "Over 60      1525\n",
      "Under 18     3383\n",
      "Name: toxicity, dtype: int64\n",
      "education\n",
      "bachelors       80718\n",
      "doctorate        1908\n",
      "hs              54382\n",
      "masters         30281\n",
      "none              122\n",
      "professional    24106\n",
      "some             4782\n",
      "Name: toxicity, dtype: int64\n",
      "toxicity_score  gender\n",
      "-2.0            female     14076\n",
      "                male       21863\n",
      "                other         15\n",
      "-1.0            female     57770\n",
      "                male      102531\n",
      "                other         44\n",
      " 0.0            female    224398\n",
      "                male      429703\n",
      "                other         37\n",
      " 1.0            female    154523\n",
      "                male      322346\n",
      "                other        252\n",
      " 2.0            female      6579\n",
      "                male       12808\n",
      "                other         10\n",
      "Name: toxicity, dtype: int64\n",
      "toxicity_score  age_group\n",
      "-2.0            18-30         18685\n",
      "                30-45         12585\n",
      "                45-60          3266\n",
      "                Over 60         226\n",
      "                Under 18        604\n",
      "-1.0            18-30         81291\n",
      "                30-45         57412\n",
      "                45-60         13879\n",
      "                Over 60        1299\n",
      "                Under 18       2779\n",
      " 0.0            18-30        360289\n",
      "                30-45        213059\n",
      "                45-60         44957\n",
      "                Over 60        4837\n",
      "                Under 18      13848\n",
      " 1.0            18-30        238693\n",
      "                30-45        178158\n",
      "                45-60         39052\n",
      "                Over 60        3270\n",
      "                Under 18      10239\n",
      " 2.0            18-30          9224\n",
      "                30-45          7241\n",
      "                45-60          1973\n",
      "                Over 60          85\n",
      "                Under 18        690\n",
      "Name: toxicity, dtype: int64\n",
      "toxicity_score  education   \n",
      "-2.0            bachelors        14666\n",
      "                doctorate          420\n",
      "                hs               11071\n",
      "                masters           5181\n",
      "                none                 9\n",
      "                professional      3529\n",
      "                some              1078\n",
      "-1.0            bachelors        66052\n",
      "                doctorate         1488\n",
      "                hs               43311\n",
      "                masters          25100\n",
      "                none               113\n",
      "                professional     20577\n",
      "                some              3704\n",
      " 0.0            bachelors       260584\n",
      "                doctorate         7026\n",
      "                hs              181953\n",
      "                masters         103992\n",
      "                none               123\n",
      "                professional     82917\n",
      "                some             17543\n",
      " 1.0            bachelors       191535\n",
      "                doctorate         5341\n",
      "                hs              138214\n",
      "                masters          68829\n",
      "                none               655\n",
      "                professional     59615\n",
      "                some             12932\n",
      " 2.0            bachelors         7376\n",
      "                doctorate          308\n",
      "                hs                6962\n",
      "                masters           2323\n",
      "                none                25\n",
      "                professional      1818\n",
      "                some               585\n",
      "Name: toxicity, dtype: int64\n"
     ]
    }
   ],
   "source": [
    "#stats\n",
    "#since we've already explored aggression, now we will focus on toxicity\n",
    "\n",
    "#count of how many people are in each demographic\n",
    "print(toxicity_data.groupby(['gender'])['toxicity'].count())\n",
    "print(toxicity_data.groupby(['age_group'])['toxicity'].count())\n",
    "print(toxicity_data.groupby(['education'])['toxicity'].count())\n",
    "\n",
    "#number of toxic flags (1) in each demographic\n",
    "print(toxicity_data.groupby(['gender'])['toxicity'].agg('sum'))\n",
    "print(toxicity_data.groupby(['age_group'])['toxicity'].agg('sum'))\n",
    "print(toxicity_data.groupby(['education'])['toxicity'].agg('sum'))\n",
    "\n",
    "\n",
    "#let's narrow down to the toxicity_score: very toxic (-3), to neutral (0), to very healthy (3)\n",
    "#instead of summing the values (the negative scores can cancel out a lot of the positive scores and lead to ambiguity)\n",
    "#we want to categorize how many types of people flag these labels\n",
    "print(toxicity_data.groupby(['toxicity_score', 'gender']).count()['toxicity'])\n",
    "print(toxicity_data.groupby(['toxicity_score', 'age_group']).count()['toxicity'])\n",
    "print(toxicity_data.groupby(['toxicity_score', 'education']).count()['toxicity'])\n"
   ]
  },
  {
   "cell_type": "markdown",
   "metadata": {},
   "source": [
    "We see a similar pattern with toxic labels if we only give it a cursory glance at total counts; males in the 18-30 age group tend to use the toxic label on comments, and the eduction level that labels the most toxic flags are in the bachelors group. Of course, the values don't exactly match that of aggression but have a similar trend. Let's compare the two datasets.\n",
    "\n",
    "But also since the number of people in each demographic varies a lot (there is an unequal number of people in each category), we have to do some ANOVA tests and calculate averages to see if there is truly a significant difference of labelling."
   ]
  },
  {
   "cell_type": "markdown",
   "metadata": {},
   "source": [
    "#### Data Analysis\n",
    "##### Gender"
   ]
  },
  {
   "cell_type": "code",
   "execution_count": 83,
   "metadata": {},
   "outputs": [
    {
     "name": "stdout",
     "output_type": "stream",
     "text": [
      "                df         sum_sq     mean_sq           F         PR(>F)\n",
      "gender         2.0     950.492553  475.246276  579.236329  4.083448e-252\n",
      "Residual  855511.0  701921.473466    0.820470         NaN            NaN\n",
      "                 df         sum_sq     mean_sq           F         PR(>F)\n",
      "gender          2.0     739.512591  369.756296  623.808297  1.617669e-271\n",
      "Residual  1346952.0  798392.686039    0.592740         NaN            NaN\n"
     ]
    }
   ],
   "source": [
    "#split up the comparisions two-ways: male-aggression vs female-aggression, male-toxicity vs female-toxicity\n",
    "model_g_a = ols('aggression_score ~ gender', data=aggression_data).fit()\n",
    "anova_table_g_a = sm.stats.anova_lm(model_g_a)\n",
    "print(anova_table_g_a)\n",
    "\n",
    "model_g_t = ols('toxicity_score ~ gender', data=toxicity_data).fit()\n",
    "anova_table_g_t = sm.stats.anova_lm(model_g_t)\n",
    "print(anova_table_g_t)"
   ]
  },
  {
   "cell_type": "markdown",
   "metadata": {},
   "source": [
    "##### Age Group"
   ]
  },
  {
   "cell_type": "code",
   "execution_count": 84,
   "metadata": {},
   "outputs": [
    {
     "name": "stdout",
     "output_type": "stream",
     "text": [
      "                 df         sum_sq     mean_sq           F         PR(>F)\n",
      "age_group       4.0     646.052454  161.513113  196.251649  1.628546e-168\n",
      "Residual   843502.0  694193.576324    0.822990         NaN            NaN\n",
      "                  df         sum_sq     mean_sq           F         PR(>F)\n",
      "age_group        4.0     554.705082  138.676270  233.024808  2.176891e-200\n",
      "Residual   1317636.0  784143.319488    0.595114         NaN            NaN\n"
     ]
    }
   ],
   "source": [
    "#split up the comparisions two-ways: one for aggression and one for toxicity\n",
    "model_a_a = ols('aggression_score ~ age_group', data=aggression_data).fit()\n",
    "anova_table_a_a = sm.stats.anova_lm(model_a_a)\n",
    "print(anova_table_a_a)\n",
    "\n",
    "model_a_t = ols('toxicity_score ~ age_group', data=toxicity_data).fit()\n",
    "anova_table_a_t = sm.stats.anova_lm(model_a_t)\n",
    "print(anova_table_a_t)"
   ]
  },
  {
   "cell_type": "markdown",
   "metadata": {},
   "source": [
    "##### Education Level"
   ]
  },
  {
   "cell_type": "code",
   "execution_count": 85,
   "metadata": {},
   "outputs": [
    {
     "name": "stdout",
     "output_type": "stream",
     "text": [
      "                 df         sum_sq    mean_sq          F        PR(>F)\n",
      "education       6.0     124.578071  20.763012  25.276369  3.472967e-30\n",
      "Residual   855507.0  702747.387948   0.821440        NaN           NaN\n",
      "                  df        sum_sq    mean_sq           F         PR(>F)\n",
      "education        6.0     444.99471  74.165785  125.077071  8.588883e-159\n",
      "Residual   1346948.0  798687.20392   0.592961         NaN            NaN\n"
     ]
    }
   ],
   "source": [
    "#split up the comparisions two-ways: one for aggression and one for toxicity\n",
    "model_a_e = ols('aggression_score ~ education', data=aggression_data).fit()\n",
    "anova_table_a_e = sm.stats.anova_lm(model_a_e)\n",
    "print(anova_table_a_e)\n",
    "\n",
    "model_a_e = ols('toxicity_score ~ education', data=toxicity_data).fit()\n",
    "anova_table_a_e = sm.stats.anova_lm(model_a_e)\n",
    "print(anova_table_a_e)"
   ]
  },
  {
   "cell_type": "markdown",
   "metadata": {},
   "source": [
    "##### Comparing Aggression and Toxicity Scores"
   ]
  },
  {
   "cell_type": "code",
   "execution_count": null,
   "metadata": {},
   "outputs": [],
   "source": [
    "#split up the comparisions two-ways: one for aggression and one for toxicity but focusing just on scores\n",
    "model_a_e = ols('toxicity_score ~ education', data=toxicity_data).fit()\n",
    "anova_table_a_e = sm.stats.anova_lm(model_a_e)\n",
    "print(anova_table_a_e)"
   ]
  },
  {
   "cell_type": "markdown",
   "metadata": {},
   "source": [
    "When we compare across the board (over gender, age group, and education level), we see a consistent pattern of the F-value being higher for the toxicity score than aggression, and the p-value being smaller for the toxicity score than aggression. This means that there is more significant difference between the demographics while labelling toxicity scores than for aggression scores. This might provide evidence that there is more bias in the toxicity dataset."
   ]
  },
  {
   "cell_type": "markdown",
   "metadata": {},
   "source": [
    "#### Data Visuals\n",
    "##### Gender"
   ]
  },
  {
   "cell_type": "code",
   "execution_count": 178,
   "metadata": {},
   "outputs": [
    {
     "data": {
      "text/plain": [
       "<matplotlib.axes._subplots.AxesSubplot at 0x1ea172d3408>"
      ]
     },
     "execution_count": 178,
     "metadata": {},
     "output_type": "execute_result"
    },
    {
     "data": {
      "image/png": "[encoded data removed]",
      "text/plain": [
       "<Figure size 432x288 with 1 Axes>"
      ]
     },
     "metadata": {
      "needs_background": "light"
     },
     "output_type": "display_data"
    }
   ],
   "source": [
    "#barchart showing average aggression and toxicity score for each gender group\n",
    "df_gen_agg = aggression_data.groupby('gender', as_index=False).aggression.mean()\n",
    "df_gen_tox = toxicity_data.groupby('gender', as_index=False).toxicity.mean()\n",
    "\n",
    "pd.concat({\n",
    "    'aggression': df_gen_agg.set_index('gender'), 'toxicity': df_gen_tox.set_index('gender')\n",
    "}, axis=1, sort=True).plot.bar()"
   ]
  },
  {
   "cell_type": "markdown",
   "metadata": {},
   "source": [
    "##### Age Group"
   ]
  },
  {
   "cell_type": "code",
   "execution_count": 179,
   "metadata": {},
   "outputs": [
    {
     "data": {
      "text/plain": [
       "<matplotlib.axes._subplots.AxesSubplot at 0x1ea16e60a88>"
      ]
     },
     "execution_count": 179,
     "metadata": {},
     "output_type": "execute_result"
    },
    {
     "data": {
      "image/png": "[encoded data removed]",
      "text/plain": [
       "<Figure size 432x288 with 1 Axes>"
      ]
     },
     "metadata": {
      "needs_background": "light"
     },
     "output_type": "display_data"
    }
   ],
   "source": [
    "#barchart showing average aggression and toxicity score for each age group\n",
    "df_gen_agg = aggression_data.groupby('age_group', as_index=False).aggression.mean()\n",
    "df_gen_tox = toxicity_data.groupby('age_group', as_index=False).toxicity.mean()\n",
    "\n",
    "pd.concat({\n",
    "    'aggression': df_gen_agg.set_index('age_group'), 'toxicity': df_gen_tox.set_index('age_group')\n",
    "}, axis=1, sort=True).plot.bar()"
   ]
  },
  {
   "cell_type": "markdown",
   "metadata": {},
   "source": [
    "##### Level of Education"
   ]
  },
  {
   "cell_type": "code",
   "execution_count": 180,
   "metadata": {},
   "outputs": [
    {
     "data": {
      "text/plain": [
       "<matplotlib.axes._subplots.AxesSubplot at 0x1ea1788c488>"
      ]
     },
     "execution_count": 180,
     "metadata": {},
     "output_type": "execute_result"
    },
    {
     "data": {
      "image/png": "[encoded data removed]",
      "text/plain": [
       "<Figure size 432x288 with 1 Axes>"
      ]
     },
     "metadata": {
      "needs_background": "light"
     },
     "output_type": "display_data"
    }
   ],
   "source": [
    "#barchart showing average aggression and toxicity score for each education level\n",
    "df_gen_agg = aggression_data.groupby('education', as_index=False).aggression.mean()\n",
    "df_gen_tox = toxicity_data.groupby('education', as_index=False).toxicity.mean()\n",
    "\n",
    "pd.concat({\n",
    "    'aggression': df_gen_agg.set_index('education'), 'toxicity': df_gen_tox.set_index('education')\n",
    "}, axis=1, sort=True).plot.bar()"
   ]
  },
  {
   "cell_type": "markdown",
   "metadata": {},
   "source": [
    "Based on these visuals, we can see that our observations of raw counts in data exploration is not as accurate as examining the averages because each demographic had a varying number of people in each group. So, these visuals on means are a more accurate representation to compare raw values. \n",
    "\n",
    "In these three graphs, we see mostly positive averages because we graphed the aggression or toxicity values which range from (0 or 1). In contrast, the previous three graphs we saw most negative values because we graphed on the aggression scores which range from (-3 to 3), and on the toxicity scores which range from (-2 to 2).  We shall not compare the numbers between the first set of three graphs and the second set of three graphs,  because they have different scales.\n",
    "\n",
    "Here we see that the Other gender, 45-60 age group, and a bachelors level of education tends to label more toxicity flags. When comparing toxicity and aggression average number of flags, we see that in almost every single situation, except for a None level of education, there tends to be more aggression flags than toxicity flags. A possible reason is that aggression is just easier to spot for almost all demographics."
   ]
  },
  {
   "cell_type": "markdown",
   "metadata": {},
   "source": [
    "As analyzed above, there are biases from gender, age group, and education level. But any machine learning model based on data from uneven or unrepresentitive distribution of gender, age group, or education level may produce inaccurate results. "
   ]
  },
  {
   "cell_type": "markdown",
   "metadata": {},
   "source": [
    "### Part 3: Implications"
   ]
  },
  {
   "cell_type": "markdown",
   "metadata": {},
   "source": [
    "Which, if any, of these demo applications would you expect the Perspective API to perform poorly in? Why?\n",
    "\n",
    "In general I would expect most of these demos to perform pretty well. But I would expect the Perspective API to perform poorly in Toxicity Timeline and Authorship Feedback because these demos focus very heavily on extracting a toxicity or feedback score based on individual words rather than full sentences. Toxicity timeline take a full sentence but analyzes each word to get a percentage of how toxic that sentence is, and Authorship Feedback generates feedback in real-time as a person types each word. But analyzing by words misses a lot of context in the sentence, which can lead to inaccurate scoring."
   ]
  },
  {
   "cell_type": "markdown",
   "metadata": {},
   "source": [
    "What are some kinds of hostile speech that would be difficult to accurately detect using the approach used to train the Perspective API models? \n",
    "\n",
    "I think some forms of hostile speech that would make it difficult to train the API model is sarcasm and cyberbullying. Sarcasm is difficult because some sentences do look like they're positive but the inflection of the voice and tone when speaking sarcasm is often lost in text. Cyberbullying is probably easier to spot than sarcasm, but it is also pretty difficult to spot because it is so personal to the victum. Online bullying usually picks apart an individual's characteristics, and those words may not apply everywhere so is not marked as negative, or not picked up by the API or manual flagger."
   ]
  },
  {
   "cell_type": "markdown",
   "metadata": {},
   "source": [
    "What are some potential unintended, negative consequences of using the Perspective API for any of these purposes? In your opinion, are these consequences likely or serious enough that you would recommend that the Perspective API not be used in these applications? Why or why not?\n",
    "\n",
    "Some potential negative consequences is that this influences and creates a standard of what is considered negative or positive comments; this has a lot of unintended power online. Additionally, there are many different cultures that speak English now that have different backgrounds and standards as to what is considered positive or negative. As languages evolve over time and in different cultures, an API may not be able to adapt quick as quickly to every scenario, which is why having some human vetting of the comments, and revisiting the algorithms is so necessary. If left unattended, the API may become outdated, and marginalize groups further if they don't follow the \"standard\". But I think the API could still be used in these applications; however it is necessary for heavy human involvement in order to mitigate these potential issues."
   ]
  }
 ],
 "metadata": {
  "kernelspec": {
   "display_name": "Python 3",
   "language": "python",
   "name": "python3"
  },
  "language_info": {
   "codemirror_mode": {
    "name": "ipython",
    "version": 3
   },
   "file_extension": ".py",
   "mimetype": "text/x-python",
   "name": "python",
   "nbconvert_exporter": "python",
   "pygments_lexer": "ipython3",
   "version": "3.7.4"
  }
 },
 "nbformat": 4,
 "nbformat_minor": 2
}
