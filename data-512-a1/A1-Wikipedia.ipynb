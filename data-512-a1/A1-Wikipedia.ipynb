{
 "cells": [
  {
   "cell_type": "markdown",
   "metadata": {},
   "source": [
    "Christie Gan\n",
    "10/9/20\n",
    "\n",
    "To retrieve and process the raw data, I saved the API links into two variables, and set the parameters to view pagecounts and pageviews from both desktop, mobile app, and mobile web. "
   ]
  },
  {
   "cell_type": "code",
   "execution_count": 115,
   "metadata": {},
   "outputs": [],
   "source": [
    "import json\n",
    "import requests\n",
    "import csv\n",
    "import pandas as pd\n",
    "import plotly.graph_objects as go\n",
    "\n",
    "#set variables for API links\n",
    "endpoint_legacy = 'https://wikimedia.org/api/rest_v1/metrics/legacy/pagecounts/aggregate/{project}/{access-site}/{granularity}/{start}/{end}'\n",
    "\n",
    "endpoint_pageviews = 'https://wikimedia.org/api/rest_v1/metrics/pageviews/aggregate/{project}/{access}/{agent}/{granularity}/{start}/{end}'\n",
    " \n",
    "#https://wikimedia.org/api/rest_v1/#!/Legacy_data/get_metrics_legacy_pagecounts_aggregate_project_access_site_granularity_start_end\n",
    "params_legacy_desktop = {\"project\" : \"en.wikipedia.org\",\n",
    "                 \"access-site\" : \"desktop-site\",\n",
    "                 \"granularity\" : \"monthly\",\n",
    "                 \"start\" : \"2008010100\",\n",
    "                 \"end\" : \"2016073100\"\n",
    "                    }\n",
    "\n",
    "params_legacy_mobile = {\"project\" : \"en.wikipedia.org\",\n",
    "                 \"access-site\" : \"mobile-site\",\n",
    "                 \"granularity\" : \"monthly\",\n",
    "                 \"start\" : \"2008010100\",\n",
    "                 \"end\" : \"2016073100\"\n",
    "                    }\n",
    "\n",
    "#https://wikimedia.org/api/rest_v1/#!/Pageviews_data/get_metrics_pageviews_aggregate_project_access_agent_granularity_start_end\n",
    "params_pageviews_desktop = {\"project\" : \"en.wikipedia.org\",\n",
    "                    \"access\" : \"desktop\",\n",
    "                    \"agent\" : \"user\",\n",
    "                    \"granularity\" : \"monthly\",\n",
    "                    \"start\" : \"2015070100\",\n",
    "                    \"end\" : '2020083100'\n",
    "                        }\n",
    "\n",
    "params_pageviews_m_app = {\"project\" : \"en.wikipedia.org\",\n",
    "                    \"access\" : \"mobile-app\",\n",
    "                    \"agent\" : \"user\",\n",
    "                    \"granularity\" : \"monthly\",\n",
    "                    \"start\" : \"2015070100\",\n",
    "                    \"end\" : '2020083100'\n",
    "                        }\n",
    "\n",
    "params_pageviews_m_web = {\"project\" : \"en.wikipedia.org\",\n",
    "                    \"access\" : \"mobile-web\",\n",
    "                    \"agent\" : \"user\",\n",
    "                    \"granularity\" : \"monthly\",\n",
    "                    \"start\" : \"2015070100\",\n",
    "                    \"end\" : '2020083100'\n",
    "                        }\n",
    "\n",
    "headers = {\n",
    "    'User-Agent': 'https://github.com/yourusername',\n",
    "    'From': 'youremail@uw.edu'\n",
    "}\n",
    "\n",
    "\n"
   ]
  },
  {
   "cell_type": "markdown",
   "metadata": {},
   "source": [
    "I defined the api_call function so that I can pass in the parameters and api link defined in the previous cell to retrieve information from the json file."
   ]
  },
  {
   "cell_type": "code",
   "execution_count": 116,
   "metadata": {},
   "outputs": [],
   "source": [
    "def api_call(endpoint,parameters):\n",
    "    call = requests.get(endpoint.format(**parameters), headers=headers)\n",
    "    response = call.json()\n",
    "    \n",
    "    return response\n"
   ]
  },
  {
   "cell_type": "markdown",
   "metadata": {},
   "source": [
    "After defining the api call function, I called the function for each of the given scenarios (pagecounts for desktop and mobile sites, and pageviews for desktop, mobile app and mobile website). The raw results from these api calls are put into separate JSON files."
   ]
  },
  {
   "cell_type": "code",
   "execution_count": 117,
   "metadata": {},
   "outputs": [],
   "source": [
    "#pagecounts\n",
    "pagecounts_desktop_site_monthly_pageviews = api_call(endpoint_legacy, params_legacy_desktop)\n",
    "with open('pagecounts_desktop-site_200801-201607.json', 'w') as outfile:\n",
    "    json.dump(pagecounts_desktop_site_monthly_pageviews, outfile)\n",
    "    \n",
    "pagecounts_mobile_site_monthly_pageviews = api_call(endpoint_legacy, params_legacy_mobile)\n",
    "with open('pagecounts_mobile-site_200801-201607.json', 'w') as outfile:\n",
    "    json.dump(pagecounts_mobile_site_monthly_pageviews, outfile)\n",
    "    \n",
    "    \n",
    "#pageviews\n",
    "pageviews_desktop_site_monthly_pageviews = api_call(endpoint_pageviews, params_pageviews_desktop)\n",
    "with open('pageviews_desktop-site_201507-202008.json', 'w') as outfile:\n",
    "    json.dump(pageviews_desktop_site_monthly_pageviews, outfile)\n",
    "\n",
    "pageviews_m_app_site_monthly_pageviews = api_call(endpoint_pageviews, params_pageviews_m_app)\n",
    "with open('pageviews_m_app-site_201507-202008.json', 'w') as outfile:\n",
    "    json.dump(pageviews_m_app_site_monthly_pageviews, outfile)\n",
    "    \n",
    "pageviews_m_web_site_monthly_pageviews = api_call(endpoint_pageviews, params_pageviews_m_web)\n",
    "with open('pageviews_m_web-site_201507-202008.json', 'w') as outfile:\n",
    "    json.dump(pageviews_m_web_site_monthly_pageviews, outfile)"
   ]
  },
  {
   "cell_type": "markdown",
   "metadata": {},
   "source": [
    "A dictionary had to be made for both pagecounts data and pageviews data in order to combine all the data into a CSV file eventually. For each dictionary, I made the key to be the timestamp and the value as all the columns of data that will eventually be in the CSV file. Load the initial desktop site data into the dictionary, then update the dictionary to incluide mobile site data."
   ]
  },
  {
   "cell_type": "code",
   "execution_count": 118,
   "metadata": {},
   "outputs": [],
   "source": [
    "#create pagecounts dictionary by loading in desktop data first into relevant columns\n",
    "with open('pagecounts_desktop-site_200801-201607.json') as inputfile:\n",
    "    data = json.load(inputfile)\n",
    "\n",
    "data = data['items']\n",
    "\n",
    "my_dict_count = {}\n",
    "count = 0\n",
    "\n",
    "for item in data:\n",
    "    my_dict_count[item['timestamp']] = {'year':item['timestamp'][0:4], 'month':item['timestamp'][4:6], \n",
    "                                  'pagecount_all_views':item['count'], 'pagecount_desktop_views':item['count'],\n",
    "                                  'pagecount_mobile_views':0}\n",
    "    \n",
    "#update dictionary with mobile data\n",
    "with open('pagecounts_mobile-site_200801-201607.json') as inputfile:\n",
    "    data = json.load(inputfile)\n",
    "\n",
    "data = data['items']\n",
    "\n",
    "for item in data:\n",
    "    existing_item = my_dict_count[item['timestamp']]\n",
    "    existing_item['pagecount_all_views'] += item['count']\n",
    "    existing_item['pagecount_mobile_views'] = item['count']\n",
    "    my_dict_count[item['timestamp']] = existing_item\n",
    "\n",
    "    \n",
    "    \n",
    "    \n",
    "#create pageviews dictionary by loading in desktop data first into relevant columns\n",
    "with open('pageviews_desktop-site_201507-202008.json') as inputfile:\n",
    "    data = json.load(inputfile)\n",
    "\n",
    "data = data['items']\n",
    "\n",
    "my_dict_views = {}\n",
    "count = 0\n",
    "\n",
    "for item in data:\n",
    "    my_dict_views[item['timestamp']] = {'year':item['timestamp'][0:4], 'month':item['timestamp'][4:6], \n",
    "                                  'pageview_all_views':item['views'], 'pageview_desktop_views':item['views'],\n",
    "                                  'pageview_mobile_views':0}\n",
    "    \n",
    "#update dictionary with mobile app data\n",
    "with open('pageviews_m_app-site_201507-202008.json') as inputfile:\n",
    "    data = json.load(inputfile)\n",
    "\n",
    "data = data['items']\n",
    "\n",
    "for item in data:\n",
    "    existing_item = my_dict_views[item['timestamp']]\n",
    "    existing_item['pageview_all_views'] += item['views']\n",
    "    existing_item['pageview_mobile_views'] += item['views']\n",
    "    my_dict_views[item['timestamp']] = existing_item\n",
    "    \n",
    "#update dictionary with mobile website data\n",
    "with open('pageviews_m_web-site_201507-202008.json') as inputfile:\n",
    "    data = json.load(inputfile)\n",
    "\n",
    "data = data['items']\n",
    "\n",
    "for item in data:\n",
    "    existing_item = my_dict_views[item['timestamp']]\n",
    "    existing_item['pageview_all_views'] += item['views']\n",
    "    existing_item['pageview_mobile_views'] += item['views']\n",
    "    my_dict_views[item['timestamp']] = existing_item\n",
    "\n"
   ]
  },
  {
   "cell_type": "markdown",
   "metadata": {},
   "source": [
    "After creating the two dictionaries I combine them and then print it out into the CSV file with the columns being asked for. This is done by looping through each key value pair and writing each row into the file."
   ]
  },
  {
   "cell_type": "code",
   "execution_count": 120,
   "metadata": {},
   "outputs": [],
   "source": [
    "#combine two dictionaries\n",
    "total_dict = {}\n",
    "for key, value in my_dict_count.items():\n",
    "    total_dict[key] = {'year':value['year'], 'month':value['month'], \n",
    "                                  'pagecount_all_views':value['pagecount_all_views'], 'pagecount_desktop_views':value['pagecount_desktop_views'],\n",
    "                                  'pagecount_mobile_views':value['pagecount_mobile_views'], 'pageview_all_views':0, 'pageview_desktop_views':0,\n",
    "                                  'pageview_mobile_views':0}\n",
    "for key, value in my_dict_views.items():\n",
    "    if key in total_dict:\n",
    "        existing_item = total_dict[key]\n",
    "        existing_item['pageview_all_views'] += value['pageview_all_views']\n",
    "        existing_item['pageview_desktop_views'] += value['pageview_desktop_views']\n",
    "        existing_item['pageview_mobile_views'] += value['pageview_mobile_views']\n",
    "        total_dict[key] = existing_item\n",
    "    else:\n",
    "        total_dict[key] = {'year':value['year'], 'month':value['month'],'pagecount_all_views':0, 'pagecount_desktop_views':0,\n",
    "                           'pagecount_mobile_views':0, 'pageview_all_views':value['pageview_all_views'], \n",
    "                           'pageview_desktop_views':value['pageview_desktop_views'], 'pageview_mobile_views':value['pageview_mobile_views']}\n",
    "\n",
    "#read in total_dict into a CSV file\n",
    "#print(total_dict)\n",
    "with open('en-wikipedia_traffic_200712-202008.csv', 'w') as csv_file:  \n",
    "    writer = csv.writer(csv_file)\n",
    "    writer.writerow(['year', 'month', 'pagecount_all_views', 'pagecount_desktop_views', 'pagecount_mobile_views', \n",
    "                     'pageview_all_views', 'pageview_desktop_views', 'pageview_mobile_views'])\n",
    "    for key, value in total_dict.items():\n",
    "       writer.writerow([value['year'], value['month'], value['pagecount_all_views'], value['pagecount_desktop_views'], \n",
    "                       value['pagecount_mobile_views'], value['pageview_all_views'], value['pageview_desktop_views'], value['pageview_mobile_views']])"
   ]
  },
  {
   "cell_type": "markdown",
   "metadata": {},
   "source": [
    "Read in the newly created CSV so that we can plot the graph of the pageviews and pagecounts. This is done by formatting the date column into a useable format for plotly, setting that variable to the x-axis, and plotting the six pagecounts/pageviews columns to the y-axis"
   ]
  },
  {
   "cell_type": "code",
   "execution_count": 121,
   "metadata": {},
   "outputs": [
    {
     "data": {
      "application/vnd.plotly.v1+json": {
       "config": {
        "plotlyServerURL": "https://plot.ly"
       },
       "data": [
        {
         "mode": "lines",
         "name": "pagecount_all",
         "type": "scatter",
         "x": [
          "2008-1",
          "2008-2",
          "2008-3",
          "2008-4",
          "2008-5",
          "2008-6",
          "2008-7",
          "2008-8",
          "2008-9",
          "2008-10",
          "2008-11",
          "2008-12",
          "2009-1",
          "2009-2",
          "2009-3",
          "2009-4",
          "2009-5",
          "2009-6",
          "2009-7",
          "2009-8",
          "2009-9",
          "2009-10",
          "2009-11",
          "2009-12",
          "2010-1",
          "2010-2",
          "2010-3",
          "2010-4",
          "2010-5",
          "2010-6",
          "2010-7",
          "2010-8",
          "2010-9",
          "2010-10",
          "2010-11",
          "2010-12",
          "2011-1",
          "2011-2",
          "2011-3",
          "2011-4",
          "2011-5",
          "2011-6",
          "2011-7",
          "2011-8",
          "2011-9",
          "2011-10",
          "2011-11",
          "2011-12",
          "2012-1",
          "2012-2",
          "2012-3",
          "2012-4",
          "2012-5",
          "2012-6",
          "2012-7",
          "2012-8",
          "2012-9",
          "2012-10",
          "2012-11",
          "2012-12",
          "2013-1",
          "2013-2",
          "2013-3",
          "2013-4",
          "2013-5",
          "2013-6",
          "2013-7",
          "2013-8",
          "2013-9",
          "2013-10",
          "2013-11",
          "2013-12",
          "2014-1",
          "2014-2",
          "2014-3",
          "2014-4",
          "2014-5",
          "2014-6",
          "2014-7",
          "2014-8",
          "2014-9",
          "2014-10",
          "2014-11",
          "2014-12",
          "2015-1",
          "2015-2",
          "2015-3",
          "2015-4",
          "2015-5",
          "2015-6",
          "2015-7",
          "2015-8",
          "2015-9",
          "2015-10",
          "2015-11",
          "2015-12",
          "2016-1",
          "2016-2",
          "2016-3",
          "2016-4",
          "2016-5",
          "2016-6",
          "2016-7"
         ],
         "y": [
          4930902570,
          4818393763,
          4955405809,
          5159162183,
          5584691092,
          5712104279,
          5306302874,
          5140155519,
          5479533823,
          5679440782,
          5415832071,
          5211708451,
          5802681551,
          5547320860,
          6295159057,
          5988817321,
          6267516733,
          5818924182,
          5801646978,
          5790850384,
          4057515768,
          6016107147,
          5768486910,
          5426505977,
          5703465285,
          5762451418,
          6661347946,
          6618552152,
          6410578775,
          4898035014,
          5296177638,
          7381346660,
          7546488744,
          10172844562,
          6948678354,
          7001952100,
          7568511227,
          6906248849,
          7326545928,
          6835492088,
          7009799378,
          6536675534,
          6571730164,
          6514500361,
          5837738935,
          6974424665,
          7507641641,
          6396357939,
          7808477339,
          7530127141,
          7358543625,
          7220029422,
          7784479302,
          7524265988,
          7819376527,
          7885641059,
          7913689733,
          8379960050,
          8219987195,
          8033826900,
          9126210673,
          8100597857,
          8701419671,
          8049296729,
          8089099883,
          7759959725,
          8237301982,
          9306122925,
          9985326806,
          10775158269,
          10414877805,
          7102459747,
          7026531269,
          6718243109,
          7464128273,
          7216245221,
          7543277646,
          6577352648,
          6761059566,
          6687313714,
          7564600999,
          9669079813,
          9181027274,
          9109282269,
          9589069146,
          8694244918,
          9677435301,
          9421035574,
          9657871297,
          8203576103,
          8483698717,
          8304022031,
          8582061182,
          8781786976,
          8515190628,
          8651858036,
          9309261244,
          8680940753,
          8827529692,
          8873620523,
          8748968139,
          8347710510,
          8864627560
         ]
        },
        {
         "mode": "lines",
         "name": "pagecount_desktop",
         "type": "scatter",
         "x": [
          "2008-1",
          "2008-2",
          "2008-3",
          "2008-4",
          "2008-5",
          "2008-6",
          "2008-7",
          "2008-8",
          "2008-9",
          "2008-10",
          "2008-11",
          "2008-12",
          "2009-1",
          "2009-2",
          "2009-3",
          "2009-4",
          "2009-5",
          "2009-6",
          "2009-7",
          "2009-8",
          "2009-9",
          "2009-10",
          "2009-11",
          "2009-12",
          "2010-1",
          "2010-2",
          "2010-3",
          "2010-4",
          "2010-5",
          "2010-6",
          "2010-7",
          "2010-8",
          "2010-9",
          "2010-10",
          "2010-11",
          "2010-12",
          "2011-1",
          "2011-2",
          "2011-3",
          "2011-4",
          "2011-5",
          "2011-6",
          "2011-7",
          "2011-8",
          "2011-9",
          "2011-10",
          "2011-11",
          "2011-12",
          "2012-1",
          "2012-2",
          "2012-3",
          "2012-4",
          "2012-5",
          "2012-6",
          "2012-7",
          "2012-8",
          "2012-9",
          "2012-10",
          "2012-11",
          "2012-12",
          "2013-1",
          "2013-2",
          "2013-3",
          "2013-4",
          "2013-5",
          "2013-6",
          "2013-7",
          "2013-8",
          "2013-9",
          "2013-10",
          "2013-11",
          "2013-12",
          "2014-1",
          "2014-2",
          "2014-3",
          "2014-4",
          "2014-5",
          "2014-6",
          "2014-7",
          "2014-8",
          "2014-9",
          "2014-10",
          "2014-11",
          "2014-12",
          "2015-1",
          "2015-2",
          "2015-3",
          "2015-4",
          "2015-5",
          "2015-6",
          "2015-7",
          "2015-8",
          "2015-9",
          "2015-10",
          "2015-11",
          "2015-12",
          "2016-1",
          "2016-2",
          "2016-3",
          "2016-4",
          "2016-5",
          "2016-6",
          "2016-7"
         ],
         "y": [
          4930902570,
          4818393763,
          4955405809,
          5159162183,
          5584691092,
          5712104279,
          5306302874,
          5140155519,
          5479533823,
          5679440782,
          5415832071,
          5211708451,
          5802681551,
          5547320860,
          6295159057,
          5988817321,
          6267516733,
          5818924182,
          5801646978,
          5790850384,
          4057515768,
          6016107147,
          5768486910,
          5426505977,
          5703465285,
          5762451418,
          6661347946,
          6618552152,
          6410578775,
          4898035014,
          5296177638,
          7381346660,
          7546488744,
          10172844562,
          6948678354,
          7001952100,
          7568511227,
          6906248849,
          7326545928,
          6835492088,
          7009799378,
          6536675534,
          6571730164,
          6514500361,
          5837738935,
          6974424665,
          7507641641,
          6396357939,
          7808477339,
          7530127141,
          7358543625,
          7220029422,
          7784479302,
          7524265988,
          7819376527,
          7885641059,
          7913689733,
          8379960050,
          8219987195,
          8033826900,
          9126210673,
          8100597857,
          8701419671,
          8049296729,
          8089099883,
          7759959725,
          8237301982,
          9306122925,
          9985326806,
          10775158269,
          10414877805,
          7102459747,
          7026531269,
          6718243109,
          7464128273,
          7216245221,
          7543277646,
          6577352648,
          6761059566,
          6687313714,
          7564600999,
          6577533128,
          6153537606,
          5830332248,
          6103767055,
          5602710439,
          6346602713,
          6198945657,
          6323801814,
          5165413640,
          5229226022,
          5035534449,
          5409631355,
          5535704471,
          5296956116,
          5264446173,
          5569632502,
          5347709361,
          5407676056,
          5572235399,
          5330532334,
          4975092447,
          5363966439
         ]
        },
        {
         "mode": "lines",
         "name": "pagecount_mobile",
         "type": "scatter",
         "x": [
          "2014-12",
          "2015-1",
          "2015-2",
          "2015-3",
          "2015-4",
          "2015-5",
          "2015-6",
          "2015-7",
          "2015-8",
          "2015-9",
          "2015-10",
          "2015-11",
          "2015-12",
          "2016-1",
          "2016-2",
          "2016-3",
          "2016-4",
          "2016-5",
          "2016-6",
          "2016-7"
         ],
         "y": [
          3278950021,
          3485302091,
          3091534479,
          3330832588,
          3222089917,
          3334069483,
          3038162463,
          3254472695,
          3268487582,
          3172429827,
          3246082505,
          3218234512,
          3387411863,
          3739628742,
          3333231392,
          3419853636,
          3301385124,
          3418435805,
          3372618063,
          3500661121
         ]
        },
        {
         "mode": "lines",
         "name": "pageview_all",
         "type": "scatter",
         "x": [
          "2015-7",
          "2015-8",
          "2015-9",
          "2015-10",
          "2015-11",
          "2015-12",
          "2016-1",
          "2016-2",
          "2016-3",
          "2016-4",
          "2016-5",
          "2016-6",
          "2016-7",
          "2016-8",
          "2016-9",
          "2016-10",
          "2016-11",
          "2016-12",
          "2017-1",
          "2017-2",
          "2017-3",
          "2017-4",
          "2017-5",
          "2017-6",
          "2017-7",
          "2017-8",
          "2017-9",
          "2017-10",
          "2017-11",
          "2017-12",
          "2018-1",
          "2018-2",
          "2018-3",
          "2018-4",
          "2018-5",
          "2018-6",
          "2018-7",
          "2018-8",
          "2018-9",
          "2018-10",
          "2018-11",
          "2018-12",
          "2019-1",
          "2019-2",
          "2019-3",
          "2019-4",
          "2019-5",
          "2019-6",
          "2019-7",
          "2019-8",
          "2019-9",
          "2019-10",
          "2019-11",
          "2019-12",
          "2020-1",
          "2020-2",
          "2020-3",
          "2020-4",
          "2020-5",
          "2020-6",
          "2020-7",
          "2020-8"
         ],
         "y": [
          7665421980,
          7634815221,
          7655695037,
          7746031887,
          7524321290,
          7476287344,
          8154016303,
          7585859457,
          7673274617,
          7408147859,
          7586811330,
          7243630656,
          7834439589,
          8210865519,
          7528292279,
          7871021581,
          7983113161,
          7986152433,
          8753941940,
          7738463562,
          8223465891,
          7591080111,
          7874558299,
          7123934190,
          7290503797,
          7196978615,
          7079052261,
          7580772181,
          7486072984,
          7470527400,
          8371116060,
          7360334422,
          8015146182,
          7690353530,
          7764840918,
          7256416175,
          7723165341,
          7586492950,
          7410952475,
          7714396331,
          7481996602,
          7668741075,
          8213615007,
          7263031930,
          7846676922,
          7591898410,
          7778725447,
          7272603509,
          7697923994,
          7511637741,
          7499320841,
          8094995348,
          7723707106,
          7651321286,
          8272629865,
          7595321571,
          8098768829,
          9304114554,
          8309793710,
          7295303813,
          7448650597,
          7416366900
         ]
        },
        {
         "mode": "lines",
         "name": "pageview_desktop",
         "type": "scatter",
         "x": [
          "2015-7",
          "2015-8",
          "2015-9",
          "2015-10",
          "2015-11",
          "2015-12",
          "2016-1",
          "2016-2",
          "2016-3",
          "2016-4",
          "2016-5",
          "2016-6",
          "2016-7",
          "2016-8",
          "2016-9",
          "2016-10",
          "2016-11",
          "2016-12",
          "2017-1",
          "2017-2",
          "2017-3",
          "2017-4",
          "2017-5",
          "2017-6",
          "2017-7",
          "2017-8",
          "2017-9",
          "2017-10",
          "2017-11",
          "2017-12",
          "2018-1",
          "2018-2",
          "2018-3",
          "2018-4",
          "2018-5",
          "2018-6",
          "2018-7",
          "2018-8",
          "2018-9",
          "2018-10",
          "2018-11",
          "2018-12",
          "2019-1",
          "2019-2",
          "2019-3",
          "2019-4",
          "2019-5",
          "2019-6",
          "2019-7",
          "2019-8",
          "2019-9",
          "2019-10",
          "2019-11",
          "2019-12",
          "2020-1",
          "2020-2",
          "2020-3",
          "2020-4",
          "2020-5",
          "2020-6",
          "2020-7",
          "2020-8"
         ],
         "y": [
          4376666686,
          4332482183,
          4485491704,
          4477532755,
          4287720220,
          4100012037,
          4436179457,
          4250997185,
          4286590426,
          4149383857,
          4191778094,
          3888839711,
          4337865827,
          4695046216,
          4135006498,
          4361737690,
          4392068236,
          4209608578,
          4521980398,
          4026702163,
          4319971902,
          3951456992,
          4187870579,
          3604550997,
          3565444544,
          3575572313,
          3547447892,
          3907651639,
          3816060923,
          3640391096,
          4111833689,
          3634653694,
          3965271925,
          3762955419,
          3675652396,
          3278649434,
          3457051589,
          3399130789,
          3433832231,
          3640606578,
          3448616562,
          3379686909,
          3616017826,
          3244921935,
          3439386600,
          3330234244,
          3364959217,
          2986618238,
          3140657554,
          2979881198,
          3061362632,
          3588403486,
          3252465442,
          3097051994,
          3440480235,
          3176520359,
          3412498274,
          3798372613,
          3078093615,
          2721328557,
          2638936132,
          2613058239
         ]
        },
        {
         "mode": "lines",
         "name": "pageview_mobile",
         "type": "scatter",
         "x": [
          "2015-7",
          "2015-8",
          "2015-9",
          "2015-10",
          "2015-11",
          "2015-12",
          "2016-1",
          "2016-2",
          "2016-3",
          "2016-4",
          "2016-5",
          "2016-6",
          "2016-7",
          "2016-8",
          "2016-9",
          "2016-10",
          "2016-11",
          "2016-12",
          "2017-1",
          "2017-2",
          "2017-3",
          "2017-4",
          "2017-5",
          "2017-6",
          "2017-7",
          "2017-8",
          "2017-9",
          "2017-10",
          "2017-11",
          "2017-12",
          "2018-1",
          "2018-2",
          "2018-3",
          "2018-4",
          "2018-5",
          "2018-6",
          "2018-7",
          "2018-8",
          "2018-9",
          "2018-10",
          "2018-11",
          "2018-12",
          "2019-1",
          "2019-2",
          "2019-3",
          "2019-4",
          "2019-5",
          "2019-6",
          "2019-7",
          "2019-8",
          "2019-9",
          "2019-10",
          "2019-11",
          "2019-12",
          "2020-1",
          "2020-2",
          "2020-3",
          "2020-4",
          "2020-5",
          "2020-6",
          "2020-7",
          "2020-8"
         ],
         "y": [
          3288755294,
          3302333038,
          3170203333,
          3268499132,
          3236601070,
          3376275307,
          3717836846,
          3334862272,
          3386684191,
          3258764002,
          3395033236,
          3354790945,
          3496573762,
          3515819303,
          3393285781,
          3509283891,
          3591044925,
          3776543855,
          4231961542,
          3711761399,
          3903493989,
          3639623119,
          3686687720,
          3519383193,
          3725059253,
          3621406302,
          3531604369,
          3673120542,
          3670012061,
          3830136304,
          4259282371,
          3725680728,
          4049874257,
          3927398111,
          4089188522,
          3977766741,
          4266113752,
          4187362161,
          3977120244,
          4073789753,
          4033380040,
          4289054166,
          4597597181,
          4018109995,
          4407290322,
          4261664166,
          4413766230,
          4285985271,
          4557266440,
          4531756543,
          4437958209,
          4506591862,
          4471241664,
          4554269292,
          4832149630,
          4418801212,
          4686270555,
          5505741941,
          5231700095,
          4573975256,
          4809714465,
          4803308661
         ]
        }
       ],
       "layout": {
        "template": {
         "data": {
          "bar": [
           {
            "error_x": {
             "color": "#2a3f5f"
            },
            "error_y": {
             "color": "#2a3f5f"
            },
            "marker": {
             "line": {
              "color": "#E5ECF6",
              "width": 0.5
             }
            },
            "type": "bar"
           }
          ],
          "barpolar": [
           {
            "marker": {
             "line": {
              "color": "#E5ECF6",
              "width": 0.5
             }
            },
            "type": "barpolar"
           }
          ],
          "carpet": [
           {
            "aaxis": {
             "endlinecolor": "#2a3f5f",
             "gridcolor": "white",
             "linecolor": "white",
             "minorgridcolor": "white",
             "startlinecolor": "#2a3f5f"
            },
            "baxis": {
             "endlinecolor": "#2a3f5f",
             "gridcolor": "white",
             "linecolor": "white",
             "minorgridcolor": "white",
             "startlinecolor": "#2a3f5f"
            },
            "type": "carpet"
           }
          ],
          "choropleth": [
           {
            "colorbar": {
             "outlinewidth": 0,
             "ticks": ""
            },
            "type": "choropleth"
           }
          ],
          "contour": [
           {
            "colorbar": {
             "outlinewidth": 0,
             "ticks": ""
            },
            "colorscale": [
             [
              0,
              "#0d0887"
             ],
             [
              0.1111111111111111,
              "#46039f"
             ],
             [
              0.2222222222222222,
              "#7201a8"
             ],
             [
              0.3333333333333333,
              "#9c179e"
             ],
             [
              0.4444444444444444,
              "#bd3786"
             ],
             [
              0.5555555555555556,
              "#d8576b"
             ],
             [
              0.6666666666666666,
              "#ed7953"
             ],
             [
              0.7777777777777778,
              "#fb9f3a"
             ],
             [
              0.8888888888888888,
              "#fdca26"
             ],
             [
              1,
              "#f0f921"
             ]
            ],
            "type": "contour"
           }
          ],
          "contourcarpet": [
           {
            "colorbar": {
             "outlinewidth": 0,
             "ticks": ""
            },
            "type": "contourcarpet"
           }
          ],
          "heatmap": [
           {
            "colorbar": {
             "outlinewidth": 0,
             "ticks": ""
            },
            "colorscale": [
             [
              0,
              "#0d0887"
             ],
             [
              0.1111111111111111,
              "#46039f"
             ],
             [
              0.2222222222222222,
              "#7201a8"
             ],
             [
              0.3333333333333333,
              "#9c179e"
             ],
             [
              0.4444444444444444,
              "#bd3786"
             ],
             [
              0.5555555555555556,
              "#d8576b"
             ],
             [
              0.6666666666666666,
              "#ed7953"
             ],
             [
              0.7777777777777778,
              "#fb9f3a"
             ],
             [
              0.8888888888888888,
              "#fdca26"
             ],
             [
              1,
              "#f0f921"
             ]
            ],
            "type": "heatmap"
           }
          ],
          "heatmapgl": [
           {
            "colorbar": {
             "outlinewidth": 0,
             "ticks": ""
            },
            "colorscale": [
             [
              0,
              "#0d0887"
             ],
             [
              0.1111111111111111,
              "#46039f"
             ],
             [
              0.2222222222222222,
              "#7201a8"
             ],
             [
              0.3333333333333333,
              "#9c179e"
             ],
             [
              0.4444444444444444,
              "#bd3786"
             ],
             [
              0.5555555555555556,
              "#d8576b"
             ],
             [
              0.6666666666666666,
              "#ed7953"
             ],
             [
              0.7777777777777778,
              "#fb9f3a"
             ],
             [
              0.8888888888888888,
              "#fdca26"
             ],
             [
              1,
              "#f0f921"
             ]
            ],
            "type": "heatmapgl"
           }
          ],
          "histogram": [
           {
            "marker": {
             "colorbar": {
              "outlinewidth": 0,
              "ticks": ""
             }
            },
            "type": "histogram"
           }
          ],
          "histogram2d": [
           {
            "colorbar": {
             "outlinewidth": 0,
             "ticks": ""
            },
            "colorscale": [
             [
              0,
              "#0d0887"
             ],
             [
              0.1111111111111111,
              "#46039f"
             ],
             [
              0.2222222222222222,
              "#7201a8"
             ],
             [
              0.3333333333333333,
              "#9c179e"
             ],
             [
              0.4444444444444444,
              "#bd3786"
             ],
             [
              0.5555555555555556,
              "#d8576b"
             ],
             [
              0.6666666666666666,
              "#ed7953"
             ],
             [
              0.7777777777777778,
              "#fb9f3a"
             ],
             [
              0.8888888888888888,
              "#fdca26"
             ],
             [
              1,
              "#f0f921"
             ]
            ],
            "type": "histogram2d"
           }
          ],
          "histogram2dcontour": [
           {
            "colorbar": {
             "outlinewidth": 0,
             "ticks": ""
            },
            "colorscale": [
             [
              0,
              "#0d0887"
             ],
             [
              0.1111111111111111,
              "#46039f"
             ],
             [
              0.2222222222222222,
              "#7201a8"
             ],
             [
              0.3333333333333333,
              "#9c179e"
             ],
             [
              0.4444444444444444,
              "#bd3786"
             ],
             [
              0.5555555555555556,
              "#d8576b"
             ],
             [
              0.6666666666666666,
              "#ed7953"
             ],
             [
              0.7777777777777778,
              "#fb9f3a"
             ],
             [
              0.8888888888888888,
              "#fdca26"
             ],
             [
              1,
              "#f0f921"
             ]
            ],
            "type": "histogram2dcontour"
           }
          ],
          "mesh3d": [
           {
            "colorbar": {
             "outlinewidth": 0,
             "ticks": ""
            },
            "type": "mesh3d"
           }
          ],
          "parcoords": [
           {
            "line": {
             "colorbar": {
              "outlinewidth": 0,
              "ticks": ""
             }
            },
            "type": "parcoords"
           }
          ],
          "pie": [
           {
            "automargin": true,
            "type": "pie"
           }
          ],
          "scatter": [
           {
            "marker": {
             "colorbar": {
              "outlinewidth": 0,
              "ticks": ""
             }
            },
            "type": "scatter"
           }
          ],
          "scatter3d": [
           {
            "line": {
             "colorbar": {
              "outlinewidth": 0,
              "ticks": ""
             }
            },
            "marker": {
             "colorbar": {
              "outlinewidth": 0,
              "ticks": ""
             }
            },
            "type": "scatter3d"
           }
          ],
          "scattercarpet": [
           {
            "marker": {
             "colorbar": {
              "outlinewidth": 0,
              "ticks": ""
             }
            },
            "type": "scattercarpet"
           }
          ],
          "scattergeo": [
           {
            "marker": {
             "colorbar": {
              "outlinewidth": 0,
              "ticks": ""
             }
            },
            "type": "scattergeo"
           }
          ],
          "scattergl": [
           {
            "marker": {
             "colorbar": {
              "outlinewidth": 0,
              "ticks": ""
             }
            },
            "type": "scattergl"
           }
          ],
          "scattermapbox": [
           {
            "marker": {
             "colorbar": {
              "outlinewidth": 0,
              "ticks": ""
             }
            },
            "type": "scattermapbox"
           }
          ],
          "scatterpolar": [
           {
            "marker": {
             "colorbar": {
              "outlinewidth": 0,
              "ticks": ""
             }
            },
            "type": "scatterpolar"
           }
          ],
          "scatterpolargl": [
           {
            "marker": {
             "colorbar": {
              "outlinewidth": 0,
              "ticks": ""
             }
            },
            "type": "scatterpolargl"
           }
          ],
          "scatterternary": [
           {
            "marker": {
             "colorbar": {
              "outlinewidth": 0,
              "ticks": ""
             }
            },
            "type": "scatterternary"
           }
          ],
          "surface": [
           {
            "colorbar": {
             "outlinewidth": 0,
             "ticks": ""
            },
            "colorscale": [
             [
              0,
              "#0d0887"
             ],
             [
              0.1111111111111111,
              "#46039f"
             ],
             [
              0.2222222222222222,
              "#7201a8"
             ],
             [
              0.3333333333333333,
              "#9c179e"
             ],
             [
              0.4444444444444444,
              "#bd3786"
             ],
             [
              0.5555555555555556,
              "#d8576b"
             ],
             [
              0.6666666666666666,
              "#ed7953"
             ],
             [
              0.7777777777777778,
              "#fb9f3a"
             ],
             [
              0.8888888888888888,
              "#fdca26"
             ],
             [
              1,
              "#f0f921"
             ]
            ],
            "type": "surface"
           }
          ],
          "table": [
           {
            "cells": {
             "fill": {
              "color": "#EBF0F8"
             },
             "line": {
              "color": "white"
             }
            },
            "header": {
             "fill": {
              "color": "#C8D4E3"
             },
             "line": {
              "color": "white"
             }
            },
            "type": "table"
           }
          ]
         },
         "layout": {
          "annotationdefaults": {
           "arrowcolor": "#2a3f5f",
           "arrowhead": 0,
           "arrowwidth": 1
          },
          "coloraxis": {
           "colorbar": {
            "outlinewidth": 0,
            "ticks": ""
           }
          },
          "colorscale": {
           "diverging": [
            [
             0,
             "#8e0152"
            ],
            [
             0.1,
             "#c51b7d"
            ],
            [
             0.2,
             "#de77ae"
            ],
            [
             0.3,
             "#f1b6da"
            ],
            [
             0.4,
             "#fde0ef"
            ],
            [
             0.5,
             "#f7f7f7"
            ],
            [
             0.6,
             "#e6f5d0"
            ],
            [
             0.7,
             "#b8e186"
            ],
            [
             0.8,
             "#7fbc41"
            ],
            [
             0.9,
             "#4d9221"
            ],
            [
             1,
             "#276419"
            ]
           ],
           "sequential": [
            [
             0,
             "#0d0887"
            ],
            [
             0.1111111111111111,
             "#46039f"
            ],
            [
             0.2222222222222222,
             "#7201a8"
            ],
            [
             0.3333333333333333,
             "#9c179e"
            ],
            [
             0.4444444444444444,
             "#bd3786"
            ],
            [
             0.5555555555555556,
             "#d8576b"
            ],
            [
             0.6666666666666666,
             "#ed7953"
            ],
            [
             0.7777777777777778,
             "#fb9f3a"
            ],
            [
             0.8888888888888888,
             "#fdca26"
            ],
            [
             1,
             "#f0f921"
            ]
           ],
           "sequentialminus": [
            [
             0,
             "#0d0887"
            ],
            [
             0.1111111111111111,
             "#46039f"
            ],
            [
             0.2222222222222222,
             "#7201a8"
            ],
            [
             0.3333333333333333,
             "#9c179e"
            ],
            [
             0.4444444444444444,
             "#bd3786"
            ],
            [
             0.5555555555555556,
             "#d8576b"
            ],
            [
             0.6666666666666666,
             "#ed7953"
            ],
            [
             0.7777777777777778,
             "#fb9f3a"
            ],
            [
             0.8888888888888888,
             "#fdca26"
            ],
            [
             1,
             "#f0f921"
            ]
           ]
          },
          "colorway": [
           "#636efa",
           "#EF553B",
           "#00cc96",
           "#ab63fa",
           "#FFA15A",
           "#19d3f3",
           "#FF6692",
           "#B6E880",
           "#FF97FF",
           "#FECB52"
          ],
          "font": {
           "color": "#2a3f5f"
          },
          "geo": {
           "bgcolor": "white",
           "lakecolor": "white",
           "landcolor": "#E5ECF6",
           "showlakes": true,
           "showland": true,
           "subunitcolor": "white"
          },
          "hoverlabel": {
           "align": "left"
          },
          "hovermode": "closest",
          "mapbox": {
           "style": "light"
          },
          "paper_bgcolor": "white",
          "plot_bgcolor": "#E5ECF6",
          "polar": {
           "angularaxis": {
            "gridcolor": "white",
            "linecolor": "white",
            "ticks": ""
           },
           "bgcolor": "#E5ECF6",
           "radialaxis": {
            "gridcolor": "white",
            "linecolor": "white",
            "ticks": ""
           }
          },
          "scene": {
           "xaxis": {
            "backgroundcolor": "#E5ECF6",
            "gridcolor": "white",
            "gridwidth": 2,
            "linecolor": "white",
            "showbackground": true,
            "ticks": "",
            "zerolinecolor": "white"
           },
           "yaxis": {
            "backgroundcolor": "#E5ECF6",
            "gridcolor": "white",
            "gridwidth": 2,
            "linecolor": "white",
            "showbackground": true,
            "ticks": "",
            "zerolinecolor": "white"
           },
           "zaxis": {
            "backgroundcolor": "#E5ECF6",
            "gridcolor": "white",
            "gridwidth": 2,
            "linecolor": "white",
            "showbackground": true,
            "ticks": "",
            "zerolinecolor": "white"
           }
          },
          "shapedefaults": {
           "line": {
            "color": "#2a3f5f"
           }
          },
          "ternary": {
           "aaxis": {
            "gridcolor": "white",
            "linecolor": "white",
            "ticks": ""
           },
           "baxis": {
            "gridcolor": "white",
            "linecolor": "white",
            "ticks": ""
           },
           "bgcolor": "#E5ECF6",
           "caxis": {
            "gridcolor": "white",
            "linecolor": "white",
            "ticks": ""
           }
          },
          "title": {
           "x": 0.05
          },
          "xaxis": {
           "automargin": true,
           "gridcolor": "white",
           "linecolor": "white",
           "ticks": "",
           "title": {
            "standoff": 15
           },
           "zerolinecolor": "white",
           "zerolinewidth": 2
          },
          "yaxis": {
           "automargin": true,
           "gridcolor": "white",
           "linecolor": "white",
           "ticks": "",
           "title": {
            "standoff": 15
           },
           "zerolinecolor": "white",
           "zerolinewidth": 2
          }
         }
        },
        "title": {
         "text": "Page Views on Wikipedia"
        },
        "xaxis": {
         "title": {
          "text": "Year"
         }
        },
        "yaxis": {
         "title": {
          "text": "Page Views"
         }
        }
       }
      },
      "text/html": [
       "<div>                            <div id=\"d43b9cdc-ae2b-42f4-b207-15ea90eff051\" class=\"plotly-graph-div\" style=\"height:525px; width:100%;\"></div>            <script type=\"text/javascript\">                require([\"plotly\"], function(Plotly) {                    window.PLOTLYENV=window.PLOTLYENV || {};                                    if (document.getElementById(\"d43b9cdc-ae2b-42f4-b207-15ea90eff051\")) {                    Plotly.newPlot(                        \"d43b9cdc-ae2b-42f4-b207-15ea90eff051\",                        [{\"mode\": \"lines\", \"name\": \"pagecount_all\", \"type\": \"scatter\", \"x\": [\"2008-1\", \"2008-2\", \"2008-3\", \"2008-4\", \"2008-5\", \"2008-6\", \"2008-7\", \"2008-8\", \"2008-9\", \"2008-10\", \"2008-11\", \"2008-12\", \"2009-1\", \"2009-2\", \"2009-3\", \"2009-4\", \"2009-5\", \"2009-6\", \"2009-7\", \"2009-8\", \"2009-9\", \"2009-10\", \"2009-11\", \"2009-12\", \"2010-1\", \"2010-2\", \"2010-3\", \"2010-4\", \"2010-5\", \"2010-6\", \"2010-7\", \"2010-8\", \"2010-9\", \"2010-10\", \"2010-11\", \"2010-12\", \"2011-1\", \"2011-2\", \"2011-3\", \"2011-4\", \"2011-5\", \"2011-6\", \"2011-7\", \"2011-8\", \"2011-9\", \"2011-10\", \"2011-11\", \"2011-12\", \"2012-1\", \"2012-2\", \"2012-3\", \"2012-4\", \"2012-5\", \"2012-6\", \"2012-7\", \"2012-8\", \"2012-9\", \"2012-10\", \"2012-11\", \"2012-12\", \"2013-1\", \"2013-2\", \"2013-3\", \"2013-4\", \"2013-5\", \"2013-6\", \"2013-7\", \"2013-8\", \"2013-9\", \"2013-10\", \"2013-11\", \"2013-12\", \"2014-1\", \"2014-2\", \"2014-3\", \"2014-4\", \"2014-5\", \"2014-6\", \"2014-7\", \"2014-8\", \"2014-9\", \"2014-10\", \"2014-11\", \"2014-12\", \"2015-1\", \"2015-2\", \"2015-3\", \"2015-4\", \"2015-5\", \"2015-6\", \"2015-7\", \"2015-8\", \"2015-9\", \"2015-10\", \"2015-11\", \"2015-12\", \"2016-1\", \"2016-2\", \"2016-3\", \"2016-4\", \"2016-5\", \"2016-6\", \"2016-7\"], \"y\": [4930902570, 4818393763, 4955405809, 5159162183, 5584691092, 5712104279, 5306302874, 5140155519, 5479533823, 5679440782, 5415832071, 5211708451, 5802681551, 5547320860, 6295159057, 5988817321, 6267516733, 5818924182, 5801646978, 5790850384, 4057515768, 6016107147, 5768486910, 5426505977, 5703465285, 5762451418, 6661347946, 6618552152, 6410578775, 4898035014, 5296177638, 7381346660, 7546488744, 10172844562, 6948678354, 7001952100, 7568511227, 6906248849, 7326545928, 6835492088, 7009799378, 6536675534, 6571730164, 6514500361, 5837738935, 6974424665, 7507641641, 6396357939, 7808477339, 7530127141, 7358543625, 7220029422, 7784479302, 7524265988, 7819376527, 7885641059, 7913689733, 8379960050, 8219987195, 8033826900, 9126210673, 8100597857, 8701419671, 8049296729, 8089099883, 7759959725, 8237301982, 9306122925, 9985326806, 10775158269, 10414877805, 7102459747, 7026531269, 6718243109, 7464128273, 7216245221, 7543277646, 6577352648, 6761059566, 6687313714, 7564600999, 9669079813, 9181027274, 9109282269, 9589069146, 8694244918, 9677435301, 9421035574, 9657871297, 8203576103, 8483698717, 8304022031, 8582061182, 8781786976, 8515190628, 8651858036, 9309261244, 8680940753, 8827529692, 8873620523, 8748968139, 8347710510, 8864627560]}, {\"mode\": \"lines\", \"name\": \"pagecount_desktop\", \"type\": \"scatter\", \"x\": [\"2008-1\", \"2008-2\", \"2008-3\", \"2008-4\", \"2008-5\", \"2008-6\", \"2008-7\", \"2008-8\", \"2008-9\", \"2008-10\", \"2008-11\", \"2008-12\", \"2009-1\", \"2009-2\", \"2009-3\", \"2009-4\", \"2009-5\", \"2009-6\", \"2009-7\", \"2009-8\", \"2009-9\", \"2009-10\", \"2009-11\", \"2009-12\", \"2010-1\", \"2010-2\", \"2010-3\", \"2010-4\", \"2010-5\", \"2010-6\", \"2010-7\", \"2010-8\", \"2010-9\", \"2010-10\", \"2010-11\", \"2010-12\", \"2011-1\", \"2011-2\", \"2011-3\", \"2011-4\", \"2011-5\", \"2011-6\", \"2011-7\", \"2011-8\", \"2011-9\", \"2011-10\", \"2011-11\", \"2011-12\", \"2012-1\", \"2012-2\", \"2012-3\", \"2012-4\", \"2012-5\", \"2012-6\", \"2012-7\", \"2012-8\", \"2012-9\", \"2012-10\", \"2012-11\", \"2012-12\", \"2013-1\", \"2013-2\", \"2013-3\", \"2013-4\", \"2013-5\", \"2013-6\", \"2013-7\", \"2013-8\", \"2013-9\", \"2013-10\", \"2013-11\", \"2013-12\", \"2014-1\", \"2014-2\", \"2014-3\", \"2014-4\", \"2014-5\", \"2014-6\", \"2014-7\", \"2014-8\", \"2014-9\", \"2014-10\", \"2014-11\", \"2014-12\", \"2015-1\", \"2015-2\", \"2015-3\", \"2015-4\", \"2015-5\", \"2015-6\", \"2015-7\", \"2015-8\", \"2015-9\", \"2015-10\", \"2015-11\", \"2015-12\", \"2016-1\", \"2016-2\", \"2016-3\", \"2016-4\", \"2016-5\", \"2016-6\", \"2016-7\"], \"y\": [4930902570, 4818393763, 4955405809, 5159162183, 5584691092, 5712104279, 5306302874, 5140155519, 5479533823, 5679440782, 5415832071, 5211708451, 5802681551, 5547320860, 6295159057, 5988817321, 6267516733, 5818924182, 5801646978, 5790850384, 4057515768, 6016107147, 5768486910, 5426505977, 5703465285, 5762451418, 6661347946, 6618552152, 6410578775, 4898035014, 5296177638, 7381346660, 7546488744, 10172844562, 6948678354, 7001952100, 7568511227, 6906248849, 7326545928, 6835492088, 7009799378, 6536675534, 6571730164, 6514500361, 5837738935, 6974424665, 7507641641, 6396357939, 7808477339, 7530127141, 7358543625, 7220029422, 7784479302, 7524265988, 7819376527, 7885641059, 7913689733, 8379960050, 8219987195, 8033826900, 9126210673, 8100597857, 8701419671, 8049296729, 8089099883, 7759959725, 8237301982, 9306122925, 9985326806, 10775158269, 10414877805, 7102459747, 7026531269, 6718243109, 7464128273, 7216245221, 7543277646, 6577352648, 6761059566, 6687313714, 7564600999, 6577533128, 6153537606, 5830332248, 6103767055, 5602710439, 6346602713, 6198945657, 6323801814, 5165413640, 5229226022, 5035534449, 5409631355, 5535704471, 5296956116, 5264446173, 5569632502, 5347709361, 5407676056, 5572235399, 5330532334, 4975092447, 5363966439]}, {\"mode\": \"lines\", \"name\": \"pagecount_mobile\", \"type\": \"scatter\", \"x\": [\"2014-12\", \"2015-1\", \"2015-2\", \"2015-3\", \"2015-4\", \"2015-5\", \"2015-6\", \"2015-7\", \"2015-8\", \"2015-9\", \"2015-10\", \"2015-11\", \"2015-12\", \"2016-1\", \"2016-2\", \"2016-3\", \"2016-4\", \"2016-5\", \"2016-6\", \"2016-7\"], \"y\": [3278950021, 3485302091, 3091534479, 3330832588, 3222089917, 3334069483, 3038162463, 3254472695, 3268487582, 3172429827, 3246082505, 3218234512, 3387411863, 3739628742, 3333231392, 3419853636, 3301385124, 3418435805, 3372618063, 3500661121]}, {\"mode\": \"lines\", \"name\": \"pageview_all\", \"type\": \"scatter\", \"x\": [\"2015-7\", \"2015-8\", \"2015-9\", \"2015-10\", \"2015-11\", \"2015-12\", \"2016-1\", \"2016-2\", \"2016-3\", \"2016-4\", \"2016-5\", \"2016-6\", \"2016-7\", \"2016-8\", \"2016-9\", \"2016-10\", \"2016-11\", \"2016-12\", \"2017-1\", \"2017-2\", \"2017-3\", \"2017-4\", \"2017-5\", \"2017-6\", \"2017-7\", \"2017-8\", \"2017-9\", \"2017-10\", \"2017-11\", \"2017-12\", \"2018-1\", \"2018-2\", \"2018-3\", \"2018-4\", \"2018-5\", \"2018-6\", \"2018-7\", \"2018-8\", \"2018-9\", \"2018-10\", \"2018-11\", \"2018-12\", \"2019-1\", \"2019-2\", \"2019-3\", \"2019-4\", \"2019-5\", \"2019-6\", \"2019-7\", \"2019-8\", \"2019-9\", \"2019-10\", \"2019-11\", \"2019-12\", \"2020-1\", \"2020-2\", \"2020-3\", \"2020-4\", \"2020-5\", \"2020-6\", \"2020-7\", \"2020-8\"], \"y\": [7665421980, 7634815221, 7655695037, 7746031887, 7524321290, 7476287344, 8154016303, 7585859457, 7673274617, 7408147859, 7586811330, 7243630656, 7834439589, 8210865519, 7528292279, 7871021581, 7983113161, 7986152433, 8753941940, 7738463562, 8223465891, 7591080111, 7874558299, 7123934190, 7290503797, 7196978615, 7079052261, 7580772181, 7486072984, 7470527400, 8371116060, 7360334422, 8015146182, 7690353530, 7764840918, 7256416175, 7723165341, 7586492950, 7410952475, 7714396331, 7481996602, 7668741075, 8213615007, 7263031930, 7846676922, 7591898410, 7778725447, 7272603509, 7697923994, 7511637741, 7499320841, 8094995348, 7723707106, 7651321286, 8272629865, 7595321571, 8098768829, 9304114554, 8309793710, 7295303813, 7448650597, 7416366900]}, {\"mode\": \"lines\", \"name\": \"pageview_desktop\", \"type\": \"scatter\", \"x\": [\"2015-7\", \"2015-8\", \"2015-9\", \"2015-10\", \"2015-11\", \"2015-12\", \"2016-1\", \"2016-2\", \"2016-3\", \"2016-4\", \"2016-5\", \"2016-6\", \"2016-7\", \"2016-8\", \"2016-9\", \"2016-10\", \"2016-11\", \"2016-12\", \"2017-1\", \"2017-2\", \"2017-3\", \"2017-4\", \"2017-5\", \"2017-6\", \"2017-7\", \"2017-8\", \"2017-9\", \"2017-10\", \"2017-11\", \"2017-12\", \"2018-1\", \"2018-2\", \"2018-3\", \"2018-4\", \"2018-5\", \"2018-6\", \"2018-7\", \"2018-8\", \"2018-9\", \"2018-10\", \"2018-11\", \"2018-12\", \"2019-1\", \"2019-2\", \"2019-3\", \"2019-4\", \"2019-5\", \"2019-6\", \"2019-7\", \"2019-8\", \"2019-9\", \"2019-10\", \"2019-11\", \"2019-12\", \"2020-1\", \"2020-2\", \"2020-3\", \"2020-4\", \"2020-5\", \"2020-6\", \"2020-7\", \"2020-8\"], \"y\": [4376666686, 4332482183, 4485491704, 4477532755, 4287720220, 4100012037, 4436179457, 4250997185, 4286590426, 4149383857, 4191778094, 3888839711, 4337865827, 4695046216, 4135006498, 4361737690, 4392068236, 4209608578, 4521980398, 4026702163, 4319971902, 3951456992, 4187870579, 3604550997, 3565444544, 3575572313, 3547447892, 3907651639, 3816060923, 3640391096, 4111833689, 3634653694, 3965271925, 3762955419, 3675652396, 3278649434, 3457051589, 3399130789, 3433832231, 3640606578, 3448616562, 3379686909, 3616017826, 3244921935, 3439386600, 3330234244, 3364959217, 2986618238, 3140657554, 2979881198, 3061362632, 3588403486, 3252465442, 3097051994, 3440480235, 3176520359, 3412498274, 3798372613, 3078093615, 2721328557, 2638936132, 2613058239]}, {\"mode\": \"lines\", \"name\": \"pageview_mobile\", \"type\": \"scatter\", \"x\": [\"2015-7\", \"2015-8\", \"2015-9\", \"2015-10\", \"2015-11\", \"2015-12\", \"2016-1\", \"2016-2\", \"2016-3\", \"2016-4\", \"2016-5\", \"2016-6\", \"2016-7\", \"2016-8\", \"2016-9\", \"2016-10\", \"2016-11\", \"2016-12\", \"2017-1\", \"2017-2\", \"2017-3\", \"2017-4\", \"2017-5\", \"2017-6\", \"2017-7\", \"2017-8\", \"2017-9\", \"2017-10\", \"2017-11\", \"2017-12\", \"2018-1\", \"2018-2\", \"2018-3\", \"2018-4\", \"2018-5\", \"2018-6\", \"2018-7\", \"2018-8\", \"2018-9\", \"2018-10\", \"2018-11\", \"2018-12\", \"2019-1\", \"2019-2\", \"2019-3\", \"2019-4\", \"2019-5\", \"2019-6\", \"2019-7\", \"2019-8\", \"2019-9\", \"2019-10\", \"2019-11\", \"2019-12\", \"2020-1\", \"2020-2\", \"2020-3\", \"2020-4\", \"2020-5\", \"2020-6\", \"2020-7\", \"2020-8\"], \"y\": [3288755294, 3302333038, 3170203333, 3268499132, 3236601070, 3376275307, 3717836846, 3334862272, 3386684191, 3258764002, 3395033236, 3354790945, 3496573762, 3515819303, 3393285781, 3509283891, 3591044925, 3776543855, 4231961542, 3711761399, 3903493989, 3639623119, 3686687720, 3519383193, 3725059253, 3621406302, 3531604369, 3673120542, 3670012061, 3830136304, 4259282371, 3725680728, 4049874257, 3927398111, 4089188522, 3977766741, 4266113752, 4187362161, 3977120244, 4073789753, 4033380040, 4289054166, 4597597181, 4018109995, 4407290322, 4261664166, 4413766230, 4285985271, 4557266440, 4531756543, 4437958209, 4506591862, 4471241664, 4554269292, 4832149630, 4418801212, 4686270555, 5505741941, 5231700095, 4573975256, 4809714465, 4803308661]}],                        {\"template\": {\"data\": {\"bar\": [{\"error_x\": {\"color\": \"#2a3f5f\"}, \"error_y\": {\"color\": \"#2a3f5f\"}, \"marker\": {\"line\": {\"color\": \"#E5ECF6\", \"width\": 0.5}}, \"type\": \"bar\"}], \"barpolar\": [{\"marker\": {\"line\": {\"color\": \"#E5ECF6\", \"width\": 0.5}}, \"type\": \"barpolar\"}], \"carpet\": [{\"aaxis\": {\"endlinecolor\": \"#2a3f5f\", \"gridcolor\": \"white\", \"linecolor\": \"white\", \"minorgridcolor\": \"white\", \"startlinecolor\": \"#2a3f5f\"}, \"baxis\": {\"endlinecolor\": \"#2a3f5f\", \"gridcolor\": \"white\", \"linecolor\": \"white\", \"minorgridcolor\": \"white\", \"startlinecolor\": \"#2a3f5f\"}, \"type\": \"carpet\"}], \"choropleth\": [{\"colorbar\": {\"outlinewidth\": 0, \"ticks\": \"\"}, \"type\": \"choropleth\"}], \"contour\": [{\"colorbar\": {\"outlinewidth\": 0, \"ticks\": \"\"}, \"colorscale\": [[0.0, \"#0d0887\"], [0.1111111111111111, \"#46039f\"], [0.2222222222222222, \"#7201a8\"], [0.3333333333333333, \"#9c179e\"], [0.4444444444444444, \"#bd3786\"], [0.5555555555555556, \"#d8576b\"], [0.6666666666666666, \"#ed7953\"], [0.7777777777777778, \"#fb9f3a\"], [0.8888888888888888, \"#fdca26\"], [1.0, \"#f0f921\"]], \"type\": \"contour\"}], \"contourcarpet\": [{\"colorbar\": {\"outlinewidth\": 0, \"ticks\": \"\"}, \"type\": \"contourcarpet\"}], \"heatmap\": [{\"colorbar\": {\"outlinewidth\": 0, \"ticks\": \"\"}, \"colorscale\": [[0.0, \"#0d0887\"], [0.1111111111111111, \"#46039f\"], [0.2222222222222222, \"#7201a8\"], [0.3333333333333333, \"#9c179e\"], [0.4444444444444444, \"#bd3786\"], [0.5555555555555556, \"#d8576b\"], [0.6666666666666666, \"#ed7953\"], [0.7777777777777778, \"#fb9f3a\"], [0.8888888888888888, \"#fdca26\"], [1.0, \"#f0f921\"]], \"type\": \"heatmap\"}], \"heatmapgl\": [{\"colorbar\": {\"outlinewidth\": 0, \"ticks\": \"\"}, \"colorscale\": [[0.0, \"#0d0887\"], [0.1111111111111111, \"#46039f\"], [0.2222222222222222, \"#7201a8\"], [0.3333333333333333, \"#9c179e\"], [0.4444444444444444, \"#bd3786\"], [0.5555555555555556, \"#d8576b\"], [0.6666666666666666, \"#ed7953\"], [0.7777777777777778, \"#fb9f3a\"], [0.8888888888888888, \"#fdca26\"], [1.0, \"#f0f921\"]], \"type\": \"heatmapgl\"}], \"histogram\": [{\"marker\": {\"colorbar\": {\"outlinewidth\": 0, \"ticks\": \"\"}}, \"type\": \"histogram\"}], \"histogram2d\": [{\"colorbar\": {\"outlinewidth\": 0, \"ticks\": \"\"}, \"colorscale\": [[0.0, \"#0d0887\"], [0.1111111111111111, \"#46039f\"], [0.2222222222222222, \"#7201a8\"], [0.3333333333333333, \"#9c179e\"], [0.4444444444444444, \"#bd3786\"], [0.5555555555555556, \"#d8576b\"], [0.6666666666666666, \"#ed7953\"], [0.7777777777777778, \"#fb9f3a\"], [0.8888888888888888, \"#fdca26\"], [1.0, \"#f0f921\"]], \"type\": \"histogram2d\"}], \"histogram2dcontour\": [{\"colorbar\": {\"outlinewidth\": 0, \"ticks\": \"\"}, \"colorscale\": [[0.0, \"#0d0887\"], [0.1111111111111111, \"#46039f\"], [0.2222222222222222, \"#7201a8\"], [0.3333333333333333, \"#9c179e\"], [0.4444444444444444, \"#bd3786\"], [0.5555555555555556, \"#d8576b\"], [0.6666666666666666, \"#ed7953\"], [0.7777777777777778, \"#fb9f3a\"], [0.8888888888888888, \"#fdca26\"], [1.0, \"#f0f921\"]], \"type\": \"histogram2dcontour\"}], \"mesh3d\": [{\"colorbar\": {\"outlinewidth\": 0, \"ticks\": \"\"}, \"type\": \"mesh3d\"}], \"parcoords\": [{\"line\": {\"colorbar\": {\"outlinewidth\": 0, \"ticks\": \"\"}}, \"type\": \"parcoords\"}], \"pie\": [{\"automargin\": true, \"type\": \"pie\"}], \"scatter\": [{\"marker\": {\"colorbar\": {\"outlinewidth\": 0, \"ticks\": \"\"}}, \"type\": \"scatter\"}], \"scatter3d\": [{\"line\": {\"colorbar\": {\"outlinewidth\": 0, \"ticks\": \"\"}}, \"marker\": {\"colorbar\": {\"outlinewidth\": 0, \"ticks\": \"\"}}, \"type\": \"scatter3d\"}], \"scattercarpet\": [{\"marker\": {\"colorbar\": {\"outlinewidth\": 0, \"ticks\": \"\"}}, \"type\": \"scattercarpet\"}], \"scattergeo\": [{\"marker\": {\"colorbar\": {\"outlinewidth\": 0, \"ticks\": \"\"}}, \"type\": \"scattergeo\"}], \"scattergl\": [{\"marker\": {\"colorbar\": {\"outlinewidth\": 0, \"ticks\": \"\"}}, \"type\": \"scattergl\"}], \"scattermapbox\": [{\"marker\": {\"colorbar\": {\"outlinewidth\": 0, \"ticks\": \"\"}}, \"type\": \"scattermapbox\"}], \"scatterpolar\": [{\"marker\": {\"colorbar\": {\"outlinewidth\": 0, \"ticks\": \"\"}}, \"type\": \"scatterpolar\"}], \"scatterpolargl\": [{\"marker\": {\"colorbar\": {\"outlinewidth\": 0, \"ticks\": \"\"}}, \"type\": \"scatterpolargl\"}], \"scatterternary\": [{\"marker\": {\"colorbar\": {\"outlinewidth\": 0, \"ticks\": \"\"}}, \"type\": \"scatterternary\"}], \"surface\": [{\"colorbar\": {\"outlinewidth\": 0, \"ticks\": \"\"}, \"colorscale\": [[0.0, \"#0d0887\"], [0.1111111111111111, \"#46039f\"], [0.2222222222222222, \"#7201a8\"], [0.3333333333333333, \"#9c179e\"], [0.4444444444444444, \"#bd3786\"], [0.5555555555555556, \"#d8576b\"], [0.6666666666666666, \"#ed7953\"], [0.7777777777777778, \"#fb9f3a\"], [0.8888888888888888, \"#fdca26\"], [1.0, \"#f0f921\"]], \"type\": \"surface\"}], \"table\": [{\"cells\": {\"fill\": {\"color\": \"#EBF0F8\"}, \"line\": {\"color\": \"white\"}}, \"header\": {\"fill\": {\"color\": \"#C8D4E3\"}, \"line\": {\"color\": \"white\"}}, \"type\": \"table\"}]}, \"layout\": {\"annotationdefaults\": {\"arrowcolor\": \"#2a3f5f\", \"arrowhead\": 0, \"arrowwidth\": 1}, \"coloraxis\": {\"colorbar\": {\"outlinewidth\": 0, \"ticks\": \"\"}}, \"colorscale\": {\"diverging\": [[0, \"#8e0152\"], [0.1, \"#c51b7d\"], [0.2, \"#de77ae\"], [0.3, \"#f1b6da\"], [0.4, \"#fde0ef\"], [0.5, \"#f7f7f7\"], [0.6, \"#e6f5d0\"], [0.7, \"#b8e186\"], [0.8, \"#7fbc41\"], [0.9, \"#4d9221\"], [1, \"#276419\"]], \"sequential\": [[0.0, \"#0d0887\"], [0.1111111111111111, \"#46039f\"], [0.2222222222222222, \"#7201a8\"], [0.3333333333333333, \"#9c179e\"], [0.4444444444444444, \"#bd3786\"], [0.5555555555555556, \"#d8576b\"], [0.6666666666666666, \"#ed7953\"], [0.7777777777777778, \"#fb9f3a\"], [0.8888888888888888, \"#fdca26\"], [1.0, \"#f0f921\"]], \"sequentialminus\": [[0.0, \"#0d0887\"], [0.1111111111111111, \"#46039f\"], [0.2222222222222222, \"#7201a8\"], [0.3333333333333333, \"#9c179e\"], [0.4444444444444444, \"#bd3786\"], [0.5555555555555556, \"#d8576b\"], [0.6666666666666666, \"#ed7953\"], [0.7777777777777778, \"#fb9f3a\"], [0.8888888888888888, \"#fdca26\"], [1.0, \"#f0f921\"]]}, \"colorway\": [\"#636efa\", \"#EF553B\", \"#00cc96\", \"#ab63fa\", \"#FFA15A\", \"#19d3f3\", \"#FF6692\", \"#B6E880\", \"#FF97FF\", \"#FECB52\"], \"font\": {\"color\": \"#2a3f5f\"}, \"geo\": {\"bgcolor\": \"white\", \"lakecolor\": \"white\", \"landcolor\": \"#E5ECF6\", \"showlakes\": true, \"showland\": true, \"subunitcolor\": \"white\"}, \"hoverlabel\": {\"align\": \"left\"}, \"hovermode\": \"closest\", \"mapbox\": {\"style\": \"light\"}, \"paper_bgcolor\": \"white\", \"plot_bgcolor\": \"#E5ECF6\", \"polar\": {\"angularaxis\": {\"gridcolor\": \"white\", \"linecolor\": \"white\", \"ticks\": \"\"}, \"bgcolor\": \"#E5ECF6\", \"radialaxis\": {\"gridcolor\": \"white\", \"linecolor\": \"white\", \"ticks\": \"\"}}, \"scene\": {\"xaxis\": {\"backgroundcolor\": \"#E5ECF6\", \"gridcolor\": \"white\", \"gridwidth\": 2, \"linecolor\": \"white\", \"showbackground\": true, \"ticks\": \"\", \"zerolinecolor\": \"white\"}, \"yaxis\": {\"backgroundcolor\": \"#E5ECF6\", \"gridcolor\": \"white\", \"gridwidth\": 2, \"linecolor\": \"white\", \"showbackground\": true, \"ticks\": \"\", \"zerolinecolor\": \"white\"}, \"zaxis\": {\"backgroundcolor\": \"#E5ECF6\", \"gridcolor\": \"white\", \"gridwidth\": 2, \"linecolor\": \"white\", \"showbackground\": true, \"ticks\": \"\", \"zerolinecolor\": \"white\"}}, \"shapedefaults\": {\"line\": {\"color\": \"#2a3f5f\"}}, \"ternary\": {\"aaxis\": {\"gridcolor\": \"white\", \"linecolor\": \"white\", \"ticks\": \"\"}, \"baxis\": {\"gridcolor\": \"white\", \"linecolor\": \"white\", \"ticks\": \"\"}, \"bgcolor\": \"#E5ECF6\", \"caxis\": {\"gridcolor\": \"white\", \"linecolor\": \"white\", \"ticks\": \"\"}}, \"title\": {\"x\": 0.05}, \"xaxis\": {\"automargin\": true, \"gridcolor\": \"white\", \"linecolor\": \"white\", \"ticks\": \"\", \"title\": {\"standoff\": 15}, \"zerolinecolor\": \"white\", \"zerolinewidth\": 2}, \"yaxis\": {\"automargin\": true, \"gridcolor\": \"white\", \"linecolor\": \"white\", \"ticks\": \"\", \"title\": {\"standoff\": 15}, \"zerolinecolor\": \"white\", \"zerolinewidth\": 2}}}, \"title\": {\"text\": \"Page Views on Wikipedia\"}, \"xaxis\": {\"title\": {\"text\": \"Year\"}}, \"yaxis\": {\"title\": {\"text\": \"Page Views\"}}},                        {\"responsive\": true}                    ).then(function(){\n",
       "                            \n",
       "var gd = document.getElementById('d43b9cdc-ae2b-42f4-b207-15ea90eff051');\n",
       "var x = new MutationObserver(function (mutations, observer) {{\n",
       "        var display = window.getComputedStyle(gd).display;\n",
       "        if (!display || display === 'none') {{\n",
       "            console.log([gd, 'removed!']);\n",
       "            Plotly.purge(gd);\n",
       "            observer.disconnect();\n",
       "        }}\n",
       "}});\n",
       "\n",
       "// Listen for the removal of the full notebook cells\n",
       "var notebookContainer = gd.closest('#notebook-container');\n",
       "if (notebookContainer) {{\n",
       "    x.observe(notebookContainer, {childList: true});\n",
       "}}\n",
       "\n",
       "// Listen for the clearing of the current output cell\n",
       "var outputEl = gd.closest('.output');\n",
       "if (outputEl) {{\n",
       "    x.observe(outputEl, {childList: true});\n",
       "}}\n",
       "\n",
       "                        })                };                });            </script>        </div>"
      ]
     },
     "metadata": {},
     "output_type": "display_data"
    }
   ],
   "source": [
    "#https://plotly.com/python/line-charts/\n",
    "\n",
    "df = pd.read_csv('en-wikipedia_traffic_200712-202008.csv')\n",
    "df['date'] = df['year'].astype(str) + \"-\" + df['month'].astype(str)\n",
    "\n",
    "\n",
    "#create plot, exclusing values that are non-zero\n",
    "fig = go.Figure()\n",
    "fig = fig.add_trace(go.Scatter(x=df['date'][0:103], y=df['pagecount_all_views'][0:103], mode='lines',\n",
    "                    name='pagecount_all'))\n",
    "fig = fig.add_trace(go.Scatter(x=df['date'][0:103], y=df['pagecount_desktop_views'][0:103], mode='lines',\n",
    "                    name='pagecount_desktop'))\n",
    "fig = fig.add_trace(go.Scatter(x=df['date'][83:103], y=df['pagecount_mobile_views'][83:103], mode='lines',\n",
    "                    name='pagecount_mobile'))\n",
    "fig = fig.add_trace(go.Scatter(x=df['date'][90:], y=df['pageview_all_views'][90:], mode='lines',\n",
    "                    name='pageview_all'))\n",
    "fig = fig.add_trace(go.Scatter(x=df['date'][90:], y=df['pageview_desktop_views'][90:], mode='lines',\n",
    "                    name='pageview_desktop'))\n",
    "fig = fig.add_trace(go.Scatter(x=df['date'][90:], y=df['pageview_mobile_views'][90:], mode='lines',\n",
    "                    name='pageview_mobile'))\n",
    "\n",
    "#add labels\n",
    "fig.update_layout(title='Page Views on Wikipedia',\n",
    "                   xaxis_title='Year',\n",
    "                   yaxis_title='Page Views')\n",
    "\n",
    "fig.show()\n"
   ]
  }
 ],
 "metadata": {
  "kernelspec": {
   "display_name": "Python 3",
   "language": "python",
   "name": "python3"
  },
  "language_info": {
   "codemirror_mode": {
    "name": "ipython",
    "version": 3
   },
   "file_extension": ".py",
   "mimetype": "text/x-python",
   "name": "python",
   "nbconvert_exporter": "python",
   "pygments_lexer": "ipython3",
   "version": "3.7.4"
  }
 },
 "nbformat": 4,
 "nbformat_minor": 2
}
