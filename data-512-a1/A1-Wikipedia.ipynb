{
 "cells": [
  {
   "cell_type": "markdown",
   "metadata": {},
   "source": [
    "# Christie Gan\n",
    "## 10/8/20\n",
    "\n",
    "#### Data Retrieval \n",
    "To retrieve and process the raw data, I saved the API links into two variables, and set the parameters to view pagecounts and pageviews from both desktop, mobile app, and mobile web. "
   ]
  },
  {
   "cell_type": "code",
   "execution_count": 115,
   "metadata": {},
   "outputs": [],
   "source": [
    "import json\n",
    "import requests\n",
    "import csv\n",
    "import pandas as pd\n",
    "import plotly.graph_objects as go\n",
    "\n",
    "#set variables for API links\n",
    "endpoint_legacy = 'https://wikimedia.org/api/rest_v1/metrics/legacy/pagecounts/aggregate/{project}/{access-site}/{granularity}/{start}/{end}'\n",
    "\n",
    "endpoint_pageviews = 'https://wikimedia.org/api/rest_v1/metrics/pageviews/aggregate/{project}/{access}/{agent}/{granularity}/{start}/{end}'\n",
    " \n",
    "#https://wikimedia.org/api/rest_v1/#!/Legacy_data/get_metrics_legacy_pagecounts_aggregate_project_access_site_granularity_start_end\n",
    "params_legacy_desktop = {\"project\" : \"en.wikipedia.org\",\n",
    "                 \"access-site\" : \"desktop-site\",\n",
    "                 \"granularity\" : \"monthly\",\n",
    "                 \"start\" : \"2008010100\",\n",
    "                 \"end\" : \"2016073100\"\n",
    "                    }\n",
    "\n",
    "params_legacy_mobile = {\"project\" : \"en.wikipedia.org\",\n",
    "                 \"access-site\" : \"mobile-site\",\n",
    "                 \"granularity\" : \"monthly\",\n",
    "                 \"start\" : \"2008010100\",\n",
    "                 \"end\" : \"2016073100\"\n",
    "                    }\n",
    "\n",
    "#https://wikimedia.org/api/rest_v1/#!/Pageviews_data/get_metrics_pageviews_aggregate_project_access_agent_granularity_start_end\n",
    "params_pageviews_desktop = {\"project\" : \"en.wikipedia.org\",\n",
    "                    \"access\" : \"desktop\",\n",
    "                    \"agent\" : \"user\",\n",
    "                    \"granularity\" : \"monthly\",\n",
    "                    \"start\" : \"2015070100\",\n",
    "                    \"end\" : '2020083100'\n",
    "                        }\n",
    "\n",
    "params_pageviews_m_app = {\"project\" : \"en.wikipedia.org\",\n",
    "                    \"access\" : \"mobile-app\",\n",
    "                    \"agent\" : \"user\",\n",
    "                    \"granularity\" : \"monthly\",\n",
    "                    \"start\" : \"2015070100\",\n",
    "                    \"end\" : '2020083100'\n",
    "                        }\n",
    "\n",
    "params_pageviews_m_web = {\"project\" : \"en.wikipedia.org\",\n",
    "                    \"access\" : \"mobile-web\",\n",
    "                    \"agent\" : \"user\",\n",
    "                    \"granularity\" : \"monthly\",\n",
    "                    \"start\" : \"2015070100\",\n",
    "                    \"end\" : '2020083100'\n",
    "                        }\n",
    "\n",
    "headers = {\n",
    "    'User-Agent': 'https://github.com/yourusername',\n",
    "    'From': 'youremail@uw.edu'\n",
    "}\n",
    "\n",
    "\n"
   ]
  },
  {
   "cell_type": "markdown",
   "metadata": {},
   "source": [
    "I defined the api_call function so that I can pass in the parameters and api link defined in the previous cell to retrieve information from the json file."
   ]
  },
  {
   "cell_type": "code",
   "execution_count": 116,
   "metadata": {},
   "outputs": [],
   "source": [
    "def api_call(endpoint,parameters):\n",
    "    call = requests.get(endpoint.format(**parameters), headers=headers)\n",
    "    response = call.json()\n",
    "    \n",
    "    return response\n"
   ]
  },
  {
   "cell_type": "markdown",
   "metadata": {},
   "source": [
    "After defining the api call function, I called the function for each of the given scenarios (pagecounts for desktop and mobile sites, and pageviews for desktop, mobile app and mobile website). The raw results from these api calls are put into separate JSON files."
   ]
  },
  {
   "cell_type": "code",
   "execution_count": 117,
   "metadata": {},
   "outputs": [],
   "source": [
    "#pagecounts\n",
    "pagecounts_desktop_site_monthly_pageviews = api_call(endpoint_legacy, params_legacy_desktop)\n",
    "with open('pagecounts_desktop-site_200801-201607.json', 'w') as outfile:\n",
    "    json.dump(pagecounts_desktop_site_monthly_pageviews, outfile)\n",
    "    \n",
    "pagecounts_mobile_site_monthly_pageviews = api_call(endpoint_legacy, params_legacy_mobile)\n",
    "with open('pagecounts_mobile-site_200801-201607.json', 'w') as outfile:\n",
    "    json.dump(pagecounts_mobile_site_monthly_pageviews, outfile)\n",
    "    \n",
    "    \n",
    "#pageviews\n",
    "pageviews_desktop_site_monthly_pageviews = api_call(endpoint_pageviews, params_pageviews_desktop)\n",
    "with open('pageviews_desktop-site_201507-202008.json', 'w') as outfile:\n",
    "    json.dump(pageviews_desktop_site_monthly_pageviews, outfile)\n",
    "\n",
    "pageviews_m_app_site_monthly_pageviews = api_call(endpoint_pageviews, params_pageviews_m_app)\n",
    "with open('pageviews_m_app-site_201507-202008.json', 'w') as outfile:\n",
    "    json.dump(pageviews_m_app_site_monthly_pageviews, outfile)\n",
    "    \n",
    "pageviews_m_web_site_monthly_pageviews = api_call(endpoint_pageviews, params_pageviews_m_web)\n",
    "with open('pageviews_m_web-site_201507-202008.json', 'w') as outfile:\n",
    "    json.dump(pageviews_m_web_site_monthly_pageviews, outfile)"
   ]
  },
  {
   "cell_type": "markdown",
   "metadata": {},
   "source": [
    "#### Data Processing\n",
    "A dictionary had to be made for both pagecounts data and pageviews data in order to combine all the data into a CSV file eventually. For each dictionary, I made the key to be the timestamp and the value as all the columns of data that will eventually be in the CSV file. Load the initial desktop site data into the dictionary, then update the dictionary to incluide mobile site data."
   ]
  },
  {
   "cell_type": "code",
   "execution_count": 118,
   "metadata": {},
   "outputs": [],
   "source": [
    "#create pagecounts dictionary by loading in desktop data first into relevant columns\n",
    "with open('pagecounts_desktop-site_200801-201607.json') as inputfile:\n",
    "    data = json.load(inputfile)\n",
    "\n",
    "data = data['items']\n",
    "\n",
    "my_dict_count = {}\n",
    "count = 0\n",
    "\n",
    "for item in data:\n",
    "    my_dict_count[item['timestamp']] = {'year':item['timestamp'][0:4], 'month':item['timestamp'][4:6], \n",
    "                                  'pagecount_all_views':item['count'], 'pagecount_desktop_views':item['count'],\n",
    "                                  'pagecount_mobile_views':0}\n",
    "    \n",
    "#update dictionary with mobile data\n",
    "with open('pagecounts_mobile-site_200801-201607.json') as inputfile:\n",
    "    data = json.load(inputfile)\n",
    "\n",
    "data = data['items']\n",
    "\n",
    "for item in data:\n",
    "    existing_item = my_dict_count[item['timestamp']]\n",
    "    existing_item['pagecount_all_views'] += item['count']\n",
    "    existing_item['pagecount_mobile_views'] = item['count']\n",
    "    my_dict_count[item['timestamp']] = existing_item\n",
    "\n",
    "    \n",
    "    \n",
    "    \n",
    "#create pageviews dictionary by loading in desktop data first into relevant columns\n",
    "with open('pageviews_desktop-site_201507-202008.json') as inputfile:\n",
    "    data = json.load(inputfile)\n",
    "\n",
    "data = data['items']\n",
    "\n",
    "my_dict_views = {}\n",
    "count = 0\n",
    "\n",
    "for item in data:\n",
    "    my_dict_views[item['timestamp']] = {'year':item['timestamp'][0:4], 'month':item['timestamp'][4:6], \n",
    "                                  'pageview_all_views':item['views'], 'pageview_desktop_views':item['views'],\n",
    "                                  'pageview_mobile_views':0}\n",
    "    \n",
    "#update dictionary with mobile app data\n",
    "with open('pageviews_m_app-site_201507-202008.json') as inputfile:\n",
    "    data = json.load(inputfile)\n",
    "\n",
    "data = data['items']\n",
    "\n",
    "for item in data:\n",
    "    existing_item = my_dict_views[item['timestamp']]\n",
    "    existing_item['pageview_all_views'] += item['views']\n",
    "    existing_item['pageview_mobile_views'] += item['views']\n",
    "    my_dict_views[item['timestamp']] = existing_item\n",
    "    \n",
    "#update dictionary with mobile website data\n",
    "with open('pageviews_m_web-site_201507-202008.json') as inputfile:\n",
    "    data = json.load(inputfile)\n",
    "\n",
    "data = data['items']\n",
    "\n",
    "for item in data:\n",
    "    existing_item = my_dict_views[item['timestamp']]\n",
    "    existing_item['pageview_all_views'] += item['views']\n",
    "    existing_item['pageview_mobile_views'] += item['views']\n",
    "    my_dict_views[item['timestamp']] = existing_item\n",
    "\n"
   ]
  },
  {
   "cell_type": "markdown",
   "metadata": {},
   "source": [
    "After creating the two dictionaries I combine them and then print it out into the CSV file with the columns being asked for. This is done by looping through each key value pair and writing each row into the file."
   ]
  },
  {
   "cell_type": "code",
   "execution_count": 120,
   "metadata": {},
   "outputs": [],
   "source": [
    "#combine two dictionaries\n",
    "total_dict = {}\n",
    "for key, value in my_dict_count.items():\n",
    "    total_dict[key] = {'year':value['year'], 'month':value['month'], \n",
    "                                  'pagecount_all_views':value['pagecount_all_views'], 'pagecount_desktop_views':value['pagecount_desktop_views'],\n",
    "                                  'pagecount_mobile_views':value['pagecount_mobile_views'], 'pageview_all_views':0, 'pageview_desktop_views':0,\n",
    "                                  'pageview_mobile_views':0}\n",
    "for key, value in my_dict_views.items():\n",
    "    if key in total_dict:\n",
    "        existing_item = total_dict[key]\n",
    "        existing_item['pageview_all_views'] += value['pageview_all_views']\n",
    "        existing_item['pageview_desktop_views'] += value['pageview_desktop_views']\n",
    "        existing_item['pageview_mobile_views'] += value['pageview_mobile_views']\n",
    "        total_dict[key] = existing_item\n",
    "    else:\n",
    "        total_dict[key] = {'year':value['year'], 'month':value['month'],'pagecount_all_views':0, 'pagecount_desktop_views':0,\n",
    "                           'pagecount_mobile_views':0, 'pageview_all_views':value['pageview_all_views'], \n",
    "                           'pageview_desktop_views':value['pageview_desktop_views'], 'pageview_mobile_views':value['pageview_mobile_views']}\n",
    "\n",
    "#read in total_dict into a CSV file\n",
    "#print(total_dict)\n",
    "with open('en-wikipedia_traffic_200712-202008.csv', 'w') as csv_file:  \n",
    "    writer = csv.writer(csv_file)\n",
    "    writer.writerow(['year', 'month', 'pagecount_all_views', 'pagecount_desktop_views', 'pagecount_mobile_views', \n",
    "                     'pageview_all_views', 'pageview_desktop_views', 'pageview_mobile_views'])\n",
    "    for key, value in total_dict.items():\n",
    "       writer.writerow([value['year'], value['month'], value['pagecount_all_views'], value['pagecount_desktop_views'], \n",
    "                       value['pagecount_mobile_views'], value['pageview_all_views'], value['pageview_desktop_views'], value['pageview_mobile_views']])"
   ]
  },
  {
   "cell_type": "markdown",
   "metadata": {},
   "source": [
    "#### Analyse and graph data\n",
    "Read in the newly created CSV so that we can plot the graph of the pageviews and pagecounts. This is done by formatting the date column into a useable time format for plotly, setting that variable to the x-axis, and plotting the six pagecounts/pageviews columns to the y-axis"
   ]
  },
  {
   "cell_type": "code",
   "execution_count": 127,
   "metadata": {},
   "outputs": [
    {
     "data": {
      "application/vnd.plotly.v1+json": {
       "config": {
        "plotlyServerURL": "https://plot.ly"
       },
       "data": [
        {
         "mode": "lines",
         "name": "pagecount_all",
         "type": "scatter",
         "x": [
          "2008-1",
          "2008-2",
          "2008-3",
          "2008-4",
          "2008-5",
          "2008-6",
          "2008-7",
          "2008-8",
          "2008-9",
          "2008-10",
          "2008-11",
          "2008-12",
          "2009-1",
          "2009-2",
          "2009-3",
          "2009-4",
          "2009-5",
          "2009-6",
          "2009-7",
          "2009-8",
          "2009-9",
          "2009-10",
          "2009-11",
          "2009-12",
          "2010-1",
          "2010-2",
          "2010-3",
          "2010-4",
          "2010-5",
          "2010-6",
          "2010-7",
          "2010-8",
          "2010-9",
          "2010-10",
          "2010-11",
          "2010-12",
          "2011-1",
          "2011-2",
          "2011-3",
          "2011-4",
          "2011-5",
          "2011-6",
          "2011-7",
          "2011-8",
          "2011-9",
          "2011-10",
          "2011-11",
          "2011-12",
          "2012-1",
          "2012-2",
          "2012-3",
          "2012-4",
          "2012-5",
          "2012-6",
          "2012-7",
          "2012-8",
          "2012-9",
          "2012-10",
          "2012-11",
          "2012-12",
          "2013-1",
          "2013-2",
          "2013-3",
          "2013-4",
          "2013-5",
          "2013-6",
          "2013-7",
          "2013-8",
          "2013-9",
          "2013-10",
          "2013-11",
          "2013-12",
          "2014-1",
          "2014-2",
          "2014-3",
          "2014-4",
          "2014-5",
          "2014-6",
          "2014-7",
          "2014-8",
          "2014-9",
          "2014-10",
          "2014-11",
          "2014-12",
          "2015-1",
          "2015-2",
          "2015-3",
          "2015-4",
          "2015-5",
          "2015-6",
          "2015-7",
          "2015-8",
          "2015-9",
          "2015-10",
          "2015-11",
          "2015-12",
          "2016-1",
          "2016-2",
          "2016-3",
          "2016-4",
          "2016-5",
          "2016-6",
          "2016-7"
         ],
         "y": [
          4930.90257,
          4818.393763,
          4955.405809,
          5159.162183,
          5584.691092,
          5712.104279,
          5306.302874,
          5140.155519,
          5479.533823,
          5679.440782,
          5415.832071,
          5211.708451,
          5802.681551,
          5547.32086,
          6295.159057,
          5988.817321,
          6267.516733,
          5818.924182,
          5801.646978,
          5790.850384,
          4057.515768,
          6016.107147,
          5768.48691,
          5426.505977,
          5703.465285,
          5762.451418,
          6661.347946,
          6618.552152,
          6410.578775,
          4898.035014,
          5296.177638,
          7381.34666,
          7546.488744,
          10172.844562,
          6948.678354,
          7001.9521,
          7568.511227,
          6906.248849,
          7326.545928,
          6835.492088,
          7009.799378,
          6536.675534,
          6571.730164,
          6514.500361,
          5837.738935,
          6974.424665,
          7507.641641,
          6396.357939,
          7808.477339,
          7530.127141,
          7358.543625,
          7220.029422,
          7784.479302,
          7524.265988,
          7819.376527,
          7885.641059,
          7913.689733,
          8379.96005,
          8219.987195,
          8033.8269,
          9126.210673,
          8100.597857,
          8701.419671,
          8049.296729,
          8089.099883,
          7759.959725,
          8237.301982,
          9306.122925,
          9985.326806,
          10775.158269,
          10414.877805,
          7102.459747,
          7026.531269,
          6718.243109,
          7464.128273,
          7216.245221,
          7543.277646,
          6577.352648,
          6761.059566,
          6687.313714,
          7564.600999,
          9669.079813,
          9181.027274,
          9109.282269,
          9589.069146,
          8694.244918,
          9677.435301,
          9421.035574,
          9657.871297,
          8203.576103,
          8483.698717,
          8304.022031,
          8582.061182,
          8781.786976,
          8515.190628,
          8651.858036,
          9309.261244,
          8680.940753,
          8827.529692,
          8873.620523,
          8748.968139,
          8347.71051,
          8864.62756
         ]
        },
        {
         "mode": "lines",
         "name": "pagecount_desktop",
         "type": "scatter",
         "x": [
          "2008-1",
          "2008-2",
          "2008-3",
          "2008-4",
          "2008-5",
          "2008-6",
          "2008-7",
          "2008-8",
          "2008-9",
          "2008-10",
          "2008-11",
          "2008-12",
          "2009-1",
          "2009-2",
          "2009-3",
          "2009-4",
          "2009-5",
          "2009-6",
          "2009-7",
          "2009-8",
          "2009-9",
          "2009-10",
          "2009-11",
          "2009-12",
          "2010-1",
          "2010-2",
          "2010-3",
          "2010-4",
          "2010-5",
          "2010-6",
          "2010-7",
          "2010-8",
          "2010-9",
          "2010-10",
          "2010-11",
          "2010-12",
          "2011-1",
          "2011-2",
          "2011-3",
          "2011-4",
          "2011-5",
          "2011-6",
          "2011-7",
          "2011-8",
          "2011-9",
          "2011-10",
          "2011-11",
          "2011-12",
          "2012-1",
          "2012-2",
          "2012-3",
          "2012-4",
          "2012-5",
          "2012-6",
          "2012-7",
          "2012-8",
          "2012-9",
          "2012-10",
          "2012-11",
          "2012-12",
          "2013-1",
          "2013-2",
          "2013-3",
          "2013-4",
          "2013-5",
          "2013-6",
          "2013-7",
          "2013-8",
          "2013-9",
          "2013-10",
          "2013-11",
          "2013-12",
          "2014-1",
          "2014-2",
          "2014-3",
          "2014-4",
          "2014-5",
          "2014-6",
          "2014-7",
          "2014-8",
          "2014-9",
          "2014-10",
          "2014-11",
          "2014-12",
          "2015-1",
          "2015-2",
          "2015-3",
          "2015-4",
          "2015-5",
          "2015-6",
          "2015-7",
          "2015-8",
          "2015-9",
          "2015-10",
          "2015-11",
          "2015-12",
          "2016-1",
          "2016-2",
          "2016-3",
          "2016-4",
          "2016-5",
          "2016-6",
          "2016-7"
         ],
         "y": [
          4930.90257,
          4818.393763,
          4955.405809,
          5159.162183,
          5584.691092,
          5712.104279,
          5306.302874,
          5140.155519,
          5479.533823,
          5679.440782,
          5415.832071,
          5211.708451,
          5802.681551,
          5547.32086,
          6295.159057,
          5988.817321,
          6267.516733,
          5818.924182,
          5801.646978,
          5790.850384,
          4057.515768,
          6016.107147,
          5768.48691,
          5426.505977,
          5703.465285,
          5762.451418,
          6661.347946,
          6618.552152,
          6410.578775,
          4898.035014,
          5296.177638,
          7381.34666,
          7546.488744,
          10172.844562,
          6948.678354,
          7001.9521,
          7568.511227,
          6906.248849,
          7326.545928,
          6835.492088,
          7009.799378,
          6536.675534,
          6571.730164,
          6514.500361,
          5837.738935,
          6974.424665,
          7507.641641,
          6396.357939,
          7808.477339,
          7530.127141,
          7358.543625,
          7220.029422,
          7784.479302,
          7524.265988,
          7819.376527,
          7885.641059,
          7913.689733,
          8379.96005,
          8219.987195,
          8033.8269,
          9126.210673,
          8100.597857,
          8701.419671,
          8049.296729,
          8089.099883,
          7759.959725,
          8237.301982,
          9306.122925,
          9985.326806,
          10775.158269,
          10414.877805,
          7102.459747,
          7026.531269,
          6718.243109,
          7464.128273,
          7216.245221,
          7543.277646,
          6577.352648,
          6761.059566,
          6687.313714,
          7564.600999,
          6577.533128,
          6153.537606,
          5830.332248,
          6103.767055,
          5602.710439,
          6346.602713,
          6198.945657,
          6323.801814,
          5165.41364,
          5229.226022,
          5035.534449,
          5409.631355,
          5535.704471,
          5296.956116,
          5264.446173,
          5569.632502,
          5347.709361,
          5407.676056,
          5572.235399,
          5330.532334,
          4975.092447,
          5363.966439
         ]
        },
        {
         "mode": "lines",
         "name": "pagecount_mobile",
         "type": "scatter",
         "x": [
          "2014-12",
          "2015-1",
          "2015-2",
          "2015-3",
          "2015-4",
          "2015-5",
          "2015-6",
          "2015-7",
          "2015-8",
          "2015-9",
          "2015-10",
          "2015-11",
          "2015-12",
          "2016-1",
          "2016-2",
          "2016-3",
          "2016-4",
          "2016-5",
          "2016-6",
          "2016-7"
         ],
         "y": [
          3278.950021,
          3485.302091,
          3091.534479,
          3330.832588,
          3222.089917,
          3334.069483,
          3038.162463,
          3254.472695,
          3268.487582,
          3172.429827,
          3246.082505,
          3218.234512,
          3387.411863,
          3739.628742,
          3333.231392,
          3419.853636,
          3301.385124,
          3418.435805,
          3372.618063,
          3500.661121
         ]
        },
        {
         "mode": "lines",
         "name": "pageview_all",
         "type": "scatter",
         "x": [
          "2015-7",
          "2015-8",
          "2015-9",
          "2015-10",
          "2015-11",
          "2015-12",
          "2016-1",
          "2016-2",
          "2016-3",
          "2016-4",
          "2016-5",
          "2016-6",
          "2016-7",
          "2016-8",
          "2016-9",
          "2016-10",
          "2016-11",
          "2016-12",
          "2017-1",
          "2017-2",
          "2017-3",
          "2017-4",
          "2017-5",
          "2017-6",
          "2017-7",
          "2017-8",
          "2017-9",
          "2017-10",
          "2017-11",
          "2017-12",
          "2018-1",
          "2018-2",
          "2018-3",
          "2018-4",
          "2018-5",
          "2018-6",
          "2018-7",
          "2018-8",
          "2018-9",
          "2018-10",
          "2018-11",
          "2018-12",
          "2019-1",
          "2019-2",
          "2019-3",
          "2019-4",
          "2019-5",
          "2019-6",
          "2019-7",
          "2019-8",
          "2019-9",
          "2019-10",
          "2019-11",
          "2019-12",
          "2020-1",
          "2020-2",
          "2020-3",
          "2020-4",
          "2020-5",
          "2020-6",
          "2020-7",
          "2020-8"
         ],
         "y": [
          7665.42198,
          7634.815221,
          7655.695037,
          7746.031887,
          7524.32129,
          7476.287344,
          8154.016303,
          7585.859457,
          7673.274617,
          7408.147859,
          7586.81133,
          7243.630656,
          7834.439589,
          8210.865519,
          7528.292279,
          7871.021581,
          7983.113161,
          7986.152433,
          8753.94194,
          7738.463562,
          8223.465891,
          7591.080111,
          7874.558299,
          7123.93419,
          7290.503797,
          7196.978615,
          7079.052261,
          7580.772181,
          7486.072984,
          7470.5274,
          8371.11606,
          7360.334422,
          8015.146182,
          7690.35353,
          7764.840918,
          7256.416175,
          7723.165341,
          7586.49295,
          7410.952475,
          7714.396331,
          7481.996602,
          7668.741075,
          8213.615007,
          7263.03193,
          7846.676922,
          7591.89841,
          7778.725447,
          7272.603509,
          7697.923994,
          7511.637741,
          7499.320841,
          8094.995348,
          7723.707106,
          7651.321286,
          8272.629865,
          7595.321571,
          8098.768829,
          9304.114554,
          8309.79371,
          7295.303813,
          7448.650597,
          7416.3669
         ]
        },
        {
         "mode": "lines",
         "name": "pageview_desktop",
         "type": "scatter",
         "x": [
          "2015-7",
          "2015-8",
          "2015-9",
          "2015-10",
          "2015-11",
          "2015-12",
          "2016-1",
          "2016-2",
          "2016-3",
          "2016-4",
          "2016-5",
          "2016-6",
          "2016-7",
          "2016-8",
          "2016-9",
          "2016-10",
          "2016-11",
          "2016-12",
          "2017-1",
          "2017-2",
          "2017-3",
          "2017-4",
          "2017-5",
          "2017-6",
          "2017-7",
          "2017-8",
          "2017-9",
          "2017-10",
          "2017-11",
          "2017-12",
          "2018-1",
          "2018-2",
          "2018-3",
          "2018-4",
          "2018-5",
          "2018-6",
          "2018-7",
          "2018-8",
          "2018-9",
          "2018-10",
          "2018-11",
          "2018-12",
          "2019-1",
          "2019-2",
          "2019-3",
          "2019-4",
          "2019-5",
          "2019-6",
          "2019-7",
          "2019-8",
          "2019-9",
          "2019-10",
          "2019-11",
          "2019-12",
          "2020-1",
          "2020-2",
          "2020-3",
          "2020-4",
          "2020-5",
          "2020-6",
          "2020-7",
          "2020-8"
         ],
         "y": [
          4376.666686,
          4332.482183,
          4485.491704,
          4477.532755,
          4287.72022,
          4100.012037,
          4436.179457,
          4250.997185,
          4286.590426,
          4149.383857,
          4191.778094,
          3888.839711,
          4337.865827,
          4695.046216,
          4135.006498,
          4361.73769,
          4392.068236,
          4209.608578,
          4521.980398,
          4026.702163,
          4319.971902,
          3951.456992,
          4187.870579,
          3604.550997,
          3565.444544,
          3575.572313,
          3547.447892,
          3907.651639,
          3816.060923,
          3640.391096,
          4111.833689,
          3634.653694,
          3965.271925,
          3762.955419,
          3675.652396,
          3278.649434,
          3457.051589,
          3399.130789,
          3433.832231,
          3640.606578,
          3448.616562,
          3379.686909,
          3616.017826,
          3244.921935,
          3439.3866,
          3330.234244,
          3364.959217,
          2986.618238,
          3140.657554,
          2979.881198,
          3061.362632,
          3588.403486,
          3252.465442,
          3097.051994,
          3440.480235,
          3176.520359,
          3412.498274,
          3798.372613,
          3078.093615,
          2721.328557,
          2638.936132,
          2613.058239
         ]
        },
        {
         "line": {
          "color": "black"
         },
         "mode": "lines",
         "name": "pageview_mobile",
         "type": "scatter",
         "x": [
          "2015-7",
          "2015-8",
          "2015-9",
          "2015-10",
          "2015-11",
          "2015-12",
          "2016-1",
          "2016-2",
          "2016-3",
          "2016-4",
          "2016-5",
          "2016-6",
          "2016-7",
          "2016-8",
          "2016-9",
          "2016-10",
          "2016-11",
          "2016-12",
          "2017-1",
          "2017-2",
          "2017-3",
          "2017-4",
          "2017-5",
          "2017-6",
          "2017-7",
          "2017-8",
          "2017-9",
          "2017-10",
          "2017-11",
          "2017-12",
          "2018-1",
          "2018-2",
          "2018-3",
          "2018-4",
          "2018-5",
          "2018-6",
          "2018-7",
          "2018-8",
          "2018-9",
          "2018-10",
          "2018-11",
          "2018-12",
          "2019-1",
          "2019-2",
          "2019-3",
          "2019-4",
          "2019-5",
          "2019-6",
          "2019-7",
          "2019-8",
          "2019-9",
          "2019-10",
          "2019-11",
          "2019-12",
          "2020-1",
          "2020-2",
          "2020-3",
          "2020-4",
          "2020-5",
          "2020-6",
          "2020-7",
          "2020-8"
         ],
         "y": [
          3288.755294,
          3302.333038,
          3170.203333,
          3268.499132,
          3236.60107,
          3376.275307,
          3717.836846,
          3334.862272,
          3386.684191,
          3258.764002,
          3395.033236,
          3354.790945,
          3496.573762,
          3515.819303,
          3393.285781,
          3509.283891,
          3591.044925,
          3776.543855,
          4231.961542,
          3711.761399,
          3903.493989,
          3639.623119,
          3686.68772,
          3519.383193,
          3725.059253,
          3621.406302,
          3531.604369,
          3673.120542,
          3670.012061,
          3830.136304,
          4259.282371,
          3725.680728,
          4049.874257,
          3927.398111,
          4089.188522,
          3977.766741,
          4266.113752,
          4187.362161,
          3977.120244,
          4073.789753,
          4033.38004,
          4289.054166,
          4597.597181,
          4018.109995,
          4407.290322,
          4261.664166,
          4413.76623,
          4285.985271,
          4557.26644,
          4531.756543,
          4437.958209,
          4506.591862,
          4471.241664,
          4554.269292,
          4832.14963,
          4418.801212,
          4686.270555,
          5505.741941,
          5231.700095,
          4573.975256,
          4809.714465,
          4803.308661
         ]
        }
       ],
       "layout": {
        "template": {
         "data": {
          "bar": [
           {
            "error_x": {
             "color": "#2a3f5f"
            },
            "error_y": {
             "color": "#2a3f5f"
            },
            "marker": {
             "line": {
              "color": "#E5ECF6",
              "width": 0.5
             }
            },
            "type": "bar"
           }
          ],
          "barpolar": [
           {
            "marker": {
             "line": {
              "color": "#E5ECF6",
              "width": 0.5
             }
            },
            "type": "barpolar"
           }
          ],
          "carpet": [
           {
            "aaxis": {
             "endlinecolor": "#2a3f5f",
             "gridcolor": "white",
             "linecolor": "white",
             "minorgridcolor": "white",
             "startlinecolor": "#2a3f5f"
            },
            "baxis": {
             "endlinecolor": "#2a3f5f",
             "gridcolor": "white",
             "linecolor": "white",
             "minorgridcolor": "white",
             "startlinecolor": "#2a3f5f"
            },
            "type": "carpet"
           }
          ],
          "choropleth": [
           {
            "colorbar": {
             "outlinewidth": 0,
             "ticks": ""
            },
            "type": "choropleth"
           }
          ],
          "contour": [
           {
            "colorbar": {
             "outlinewidth": 0,
             "ticks": ""
            },
            "colorscale": [
             [
              0,
              "#0d0887"
             ],
             [
              0.1111111111111111,
              "#46039f"
             ],
             [
              0.2222222222222222,
              "#7201a8"
             ],
             [
              0.3333333333333333,
              "#9c179e"
             ],
             [
              0.4444444444444444,
              "#bd3786"
             ],
             [
              0.5555555555555556,
              "#d8576b"
             ],
             [
              0.6666666666666666,
              "#ed7953"
             ],
             [
              0.7777777777777778,
              "#fb9f3a"
             ],
             [
              0.8888888888888888,
              "#fdca26"
             ],
             [
              1,
              "#f0f921"
             ]
            ],
            "type": "contour"
           }
          ],
          "contourcarpet": [
           {
            "colorbar": {
             "outlinewidth": 0,
             "ticks": ""
            },
            "type": "contourcarpet"
           }
          ],
          "heatmap": [
           {
            "colorbar": {
             "outlinewidth": 0,
             "ticks": ""
            },
            "colorscale": [
             [
              0,
              "#0d0887"
             ],
             [
              0.1111111111111111,
              "#46039f"
             ],
             [
              0.2222222222222222,
              "#7201a8"
             ],
             [
              0.3333333333333333,
              "#9c179e"
             ],
             [
              0.4444444444444444,
              "#bd3786"
             ],
             [
              0.5555555555555556,
              "#d8576b"
             ],
             [
              0.6666666666666666,
              "#ed7953"
             ],
             [
              0.7777777777777778,
              "#fb9f3a"
             ],
             [
              0.8888888888888888,
              "#fdca26"
             ],
             [
              1,
              "#f0f921"
             ]
            ],
            "type": "heatmap"
           }
          ],
          "heatmapgl": [
           {
            "colorbar": {
             "outlinewidth": 0,
             "ticks": ""
            },
            "colorscale": [
             [
              0,
              "#0d0887"
             ],
             [
              0.1111111111111111,
              "#46039f"
             ],
             [
              0.2222222222222222,
              "#7201a8"
             ],
             [
              0.3333333333333333,
              "#9c179e"
             ],
             [
              0.4444444444444444,
              "#bd3786"
             ],
             [
              0.5555555555555556,
              "#d8576b"
             ],
             [
              0.6666666666666666,
              "#ed7953"
             ],
             [
              0.7777777777777778,
              "#fb9f3a"
             ],
             [
              0.8888888888888888,
              "#fdca26"
             ],
             [
              1,
              "#f0f921"
             ]
            ],
            "type": "heatmapgl"
           }
          ],
          "histogram": [
           {
            "marker": {
             "colorbar": {
              "outlinewidth": 0,
              "ticks": ""
             }
            },
            "type": "histogram"
           }
          ],
          "histogram2d": [
           {
            "colorbar": {
             "outlinewidth": 0,
             "ticks": ""
            },
            "colorscale": [
             [
              0,
              "#0d0887"
             ],
             [
              0.1111111111111111,
              "#46039f"
             ],
             [
              0.2222222222222222,
              "#7201a8"
             ],
             [
              0.3333333333333333,
              "#9c179e"
             ],
             [
              0.4444444444444444,
              "#bd3786"
             ],
             [
              0.5555555555555556,
              "#d8576b"
             ],
             [
              0.6666666666666666,
              "#ed7953"
             ],
             [
              0.7777777777777778,
              "#fb9f3a"
             ],
             [
              0.8888888888888888,
              "#fdca26"
             ],
             [
              1,
              "#f0f921"
             ]
            ],
            "type": "histogram2d"
           }
          ],
          "histogram2dcontour": [
           {
            "colorbar": {
             "outlinewidth": 0,
             "ticks": ""
            },
            "colorscale": [
             [
              0,
              "#0d0887"
             ],
             [
              0.1111111111111111,
              "#46039f"
             ],
             [
              0.2222222222222222,
              "#7201a8"
             ],
             [
              0.3333333333333333,
              "#9c179e"
             ],
             [
              0.4444444444444444,
              "#bd3786"
             ],
             [
              0.5555555555555556,
              "#d8576b"
             ],
             [
              0.6666666666666666,
              "#ed7953"
             ],
             [
              0.7777777777777778,
              "#fb9f3a"
             ],
             [
              0.8888888888888888,
              "#fdca26"
             ],
             [
              1,
              "#f0f921"
             ]
            ],
            "type": "histogram2dcontour"
           }
          ],
          "mesh3d": [
           {
            "colorbar": {
             "outlinewidth": 0,
             "ticks": ""
            },
            "type": "mesh3d"
           }
          ],
          "parcoords": [
           {
            "line": {
             "colorbar": {
              "outlinewidth": 0,
              "ticks": ""
             }
            },
            "type": "parcoords"
           }
          ],
          "pie": [
           {
            "automargin": true,
            "type": "pie"
           }
          ],
          "scatter": [
           {
            "marker": {
             "colorbar": {
              "outlinewidth": 0,
              "ticks": ""
             }
            },
            "type": "scatter"
           }
          ],
          "scatter3d": [
           {
            "line": {
             "colorbar": {
              "outlinewidth": 0,
              "ticks": ""
             }
            },
            "marker": {
             "colorbar": {
              "outlinewidth": 0,
              "ticks": ""
             }
            },
            "type": "scatter3d"
           }
          ],
          "scattercarpet": [
           {
            "marker": {
             "colorbar": {
              "outlinewidth": 0,
              "ticks": ""
             }
            },
            "type": "scattercarpet"
           }
          ],
          "scattergeo": [
           {
            "marker": {
             "colorbar": {
              "outlinewidth": 0,
              "ticks": ""
             }
            },
            "type": "scattergeo"
           }
          ],
          "scattergl": [
           {
            "marker": {
             "colorbar": {
              "outlinewidth": 0,
              "ticks": ""
             }
            },
            "type": "scattergl"
           }
          ],
          "scattermapbox": [
           {
            "marker": {
             "colorbar": {
              "outlinewidth": 0,
              "ticks": ""
             }
            },
            "type": "scattermapbox"
           }
          ],
          "scatterpolar": [
           {
            "marker": {
             "colorbar": {
              "outlinewidth": 0,
              "ticks": ""
             }
            },
            "type": "scatterpolar"
           }
          ],
          "scatterpolargl": [
           {
            "marker": {
             "colorbar": {
              "outlinewidth": 0,
              "ticks": ""
             }
            },
            "type": "scatterpolargl"
           }
          ],
          "scatterternary": [
           {
            "marker": {
             "colorbar": {
              "outlinewidth": 0,
              "ticks": ""
             }
            },
            "type": "scatterternary"
           }
          ],
          "surface": [
           {
            "colorbar": {
             "outlinewidth": 0,
             "ticks": ""
            },
            "colorscale": [
             [
              0,
              "#0d0887"
             ],
             [
              0.1111111111111111,
              "#46039f"
             ],
             [
              0.2222222222222222,
              "#7201a8"
             ],
             [
              0.3333333333333333,
              "#9c179e"
             ],
             [
              0.4444444444444444,
              "#bd3786"
             ],
             [
              0.5555555555555556,
              "#d8576b"
             ],
             [
              0.6666666666666666,
              "#ed7953"
             ],
             [
              0.7777777777777778,
              "#fb9f3a"
             ],
             [
              0.8888888888888888,
              "#fdca26"
             ],
             [
              1,
              "#f0f921"
             ]
            ],
            "type": "surface"
           }
          ],
          "table": [
           {
            "cells": {
             "fill": {
              "color": "#EBF0F8"
             },
             "line": {
              "color": "white"
             }
            },
            "header": {
             "fill": {
              "color": "#C8D4E3"
             },
             "line": {
              "color": "white"
             }
            },
            "type": "table"
           }
          ]
         },
         "layout": {
          "annotationdefaults": {
           "arrowcolor": "#2a3f5f",
           "arrowhead": 0,
           "arrowwidth": 1
          },
          "coloraxis": {
           "colorbar": {
            "outlinewidth": 0,
            "ticks": ""
           }
          },
          "colorscale": {
           "diverging": [
            [
             0,
             "#8e0152"
            ],
            [
             0.1,
             "#c51b7d"
            ],
            [
             0.2,
             "#de77ae"
            ],
            [
             0.3,
             "#f1b6da"
            ],
            [
             0.4,
             "#fde0ef"
            ],
            [
             0.5,
             "#f7f7f7"
            ],
            [
             0.6,
             "#e6f5d0"
            ],
            [
             0.7,
             "#b8e186"
            ],
            [
             0.8,
             "#7fbc41"
            ],
            [
             0.9,
             "#4d9221"
            ],
            [
             1,
             "#276419"
            ]
           ],
           "sequential": [
            [
             0,
             "#0d0887"
            ],
            [
             0.1111111111111111,
             "#46039f"
            ],
            [
             0.2222222222222222,
             "#7201a8"
            ],
            [
             0.3333333333333333,
             "#9c179e"
            ],
            [
             0.4444444444444444,
             "#bd3786"
            ],
            [
             0.5555555555555556,
             "#d8576b"
            ],
            [
             0.6666666666666666,
             "#ed7953"
            ],
            [
             0.7777777777777778,
             "#fb9f3a"
            ],
            [
             0.8888888888888888,
             "#fdca26"
            ],
            [
             1,
             "#f0f921"
            ]
           ],
           "sequentialminus": [
            [
             0,
             "#0d0887"
            ],
            [
             0.1111111111111111,
             "#46039f"
            ],
            [
             0.2222222222222222,
             "#7201a8"
            ],
            [
             0.3333333333333333,
             "#9c179e"
            ],
            [
             0.4444444444444444,
             "#bd3786"
            ],
            [
             0.5555555555555556,
             "#d8576b"
            ],
            [
             0.6666666666666666,
             "#ed7953"
            ],
            [
             0.7777777777777778,
             "#fb9f3a"
            ],
            [
             0.8888888888888888,
             "#fdca26"
            ],
            [
             1,
             "#f0f921"
            ]
           ]
          },
          "colorway": [
           "#636efa",
           "#EF553B",
           "#00cc96",
           "#ab63fa",
           "#FFA15A",
           "#19d3f3",
           "#FF6692",
           "#B6E880",
           "#FF97FF",
           "#FECB52"
          ],
          "font": {
           "color": "#2a3f5f"
          },
          "geo": {
           "bgcolor": "white",
           "lakecolor": "white",
           "landcolor": "#E5ECF6",
           "showlakes": true,
           "showland": true,
           "subunitcolor": "white"
          },
          "hoverlabel": {
           "align": "left"
          },
          "hovermode": "closest",
          "mapbox": {
           "style": "light"
          },
          "paper_bgcolor": "white",
          "plot_bgcolor": "#E5ECF6",
          "polar": {
           "angularaxis": {
            "gridcolor": "white",
            "linecolor": "white",
            "ticks": ""
           },
           "bgcolor": "#E5ECF6",
           "radialaxis": {
            "gridcolor": "white",
            "linecolor": "white",
            "ticks": ""
           }
          },
          "scene": {
           "xaxis": {
            "backgroundcolor": "#E5ECF6",
            "gridcolor": "white",
            "gridwidth": 2,
            "linecolor": "white",
            "showbackground": true,
            "ticks": "",
            "zerolinecolor": "white"
           },
           "yaxis": {
            "backgroundcolor": "#E5ECF6",
            "gridcolor": "white",
            "gridwidth": 2,
            "linecolor": "white",
            "showbackground": true,
            "ticks": "",
            "zerolinecolor": "white"
           },
           "zaxis": {
            "backgroundcolor": "#E5ECF6",
            "gridcolor": "white",
            "gridwidth": 2,
            "linecolor": "white",
            "showbackground": true,
            "ticks": "",
            "zerolinecolor": "white"
           }
          },
          "shapedefaults": {
           "line": {
            "color": "#2a3f5f"
           }
          },
          "ternary": {
           "aaxis": {
            "gridcolor": "white",
            "linecolor": "white",
            "ticks": ""
           },
           "baxis": {
            "gridcolor": "white",
            "linecolor": "white",
            "ticks": ""
           },
           "bgcolor": "#E5ECF6",
           "caxis": {
            "gridcolor": "white",
            "linecolor": "white",
            "ticks": ""
           }
          },
          "title": {
           "x": 0.05
          },
          "xaxis": {
           "automargin": true,
           "gridcolor": "white",
           "linecolor": "white",
           "ticks": "",
           "title": {
            "standoff": 15
           },
           "zerolinecolor": "white",
           "zerolinewidth": 2
          },
          "yaxis": {
           "automargin": true,
           "gridcolor": "white",
           "linecolor": "white",
           "ticks": "",
           "title": {
            "standoff": 15
           },
           "zerolinecolor": "white",
           "zerolinewidth": 2
          }
         }
        },
        "title": {
         "text": "Page Views on Wikipedia"
        },
        "xaxis": {
         "title": {
          "text": "Year"
         }
        },
        "yaxis": {
         "title": {
          "text": "Page Views"
         }
        }
       }
      },
      "text/html": [
       "<div>                            <div id=\"7e91d503-1ed0-4b30-916d-692706353b79\" class=\"plotly-graph-div\" style=\"height:525px; width:100%;\"></div>            <script type=\"text/javascript\">                require([\"plotly\"], function(Plotly) {                    window.PLOTLYENV=window.PLOTLYENV || {};                                    if (document.getElementById(\"7e91d503-1ed0-4b30-916d-692706353b79\")) {                    Plotly.newPlot(                        \"7e91d503-1ed0-4b30-916d-692706353b79\",                        [{\"mode\": \"lines\", \"name\": \"pagecount_all\", \"type\": \"scatter\", \"x\": [\"2008-1\", \"2008-2\", \"2008-3\", \"2008-4\", \"2008-5\", \"2008-6\", \"2008-7\", \"2008-8\", \"2008-9\", \"2008-10\", \"2008-11\", \"2008-12\", \"2009-1\", \"2009-2\", \"2009-3\", \"2009-4\", \"2009-5\", \"2009-6\", \"2009-7\", \"2009-8\", \"2009-9\", \"2009-10\", \"2009-11\", \"2009-12\", \"2010-1\", \"2010-2\", \"2010-3\", \"2010-4\", \"2010-5\", \"2010-6\", \"2010-7\", \"2010-8\", \"2010-9\", \"2010-10\", \"2010-11\", \"2010-12\", \"2011-1\", \"2011-2\", \"2011-3\", \"2011-4\", \"2011-5\", \"2011-6\", \"2011-7\", \"2011-8\", \"2011-9\", \"2011-10\", \"2011-11\", \"2011-12\", \"2012-1\", \"2012-2\", \"2012-3\", \"2012-4\", \"2012-5\", \"2012-6\", \"2012-7\", \"2012-8\", \"2012-9\", \"2012-10\", \"2012-11\", \"2012-12\", \"2013-1\", \"2013-2\", \"2013-3\", \"2013-4\", \"2013-5\", \"2013-6\", \"2013-7\", \"2013-8\", \"2013-9\", \"2013-10\", \"2013-11\", \"2013-12\", \"2014-1\", \"2014-2\", \"2014-3\", \"2014-4\", \"2014-5\", \"2014-6\", \"2014-7\", \"2014-8\", \"2014-9\", \"2014-10\", \"2014-11\", \"2014-12\", \"2015-1\", \"2015-2\", \"2015-3\", \"2015-4\", \"2015-5\", \"2015-6\", \"2015-7\", \"2015-8\", \"2015-9\", \"2015-10\", \"2015-11\", \"2015-12\", \"2016-1\", \"2016-2\", \"2016-3\", \"2016-4\", \"2016-5\", \"2016-6\", \"2016-7\"], \"y\": [4930.90257, 4818.393763, 4955.405809, 5159.162183, 5584.691092, 5712.104279, 5306.302874, 5140.155519, 5479.533823, 5679.440782, 5415.832071, 5211.708451, 5802.681551, 5547.32086, 6295.159057, 5988.817321, 6267.516733, 5818.924182, 5801.646978, 5790.850384, 4057.515768, 6016.107147, 5768.48691, 5426.505977, 5703.465285, 5762.451418, 6661.347946, 6618.552152, 6410.578775, 4898.035014, 5296.177638, 7381.34666, 7546.488744, 10172.844562, 6948.678354, 7001.9521, 7568.511227, 6906.248849, 7326.545928, 6835.492088, 7009.799378, 6536.675534, 6571.730164, 6514.500361, 5837.738935, 6974.424665, 7507.641641, 6396.357939, 7808.477339, 7530.127141, 7358.543625, 7220.029422, 7784.479302, 7524.265988, 7819.376527, 7885.641059, 7913.689733, 8379.96005, 8219.987195, 8033.8269, 9126.210673, 8100.597857, 8701.419671, 8049.296729, 8089.099883, 7759.959725, 8237.301982, 9306.122925, 9985.326806, 10775.158269, 10414.877805, 7102.459747, 7026.531269, 6718.243109, 7464.128273, 7216.245221, 7543.277646, 6577.352648, 6761.059566, 6687.313714, 7564.600999, 9669.079813, 9181.027274, 9109.282269, 9589.069146, 8694.244918, 9677.435301, 9421.035574, 9657.871297, 8203.576103, 8483.698717, 8304.022031, 8582.061182, 8781.786976, 8515.190628, 8651.858036, 9309.261244, 8680.940753, 8827.529692, 8873.620523, 8748.968139, 8347.71051, 8864.62756]}, {\"mode\": \"lines\", \"name\": \"pagecount_desktop\", \"type\": \"scatter\", \"x\": [\"2008-1\", \"2008-2\", \"2008-3\", \"2008-4\", \"2008-5\", \"2008-6\", \"2008-7\", \"2008-8\", \"2008-9\", \"2008-10\", \"2008-11\", \"2008-12\", \"2009-1\", \"2009-2\", \"2009-3\", \"2009-4\", \"2009-5\", \"2009-6\", \"2009-7\", \"2009-8\", \"2009-9\", \"2009-10\", \"2009-11\", \"2009-12\", \"2010-1\", \"2010-2\", \"2010-3\", \"2010-4\", \"2010-5\", \"2010-6\", \"2010-7\", \"2010-8\", \"2010-9\", \"2010-10\", \"2010-11\", \"2010-12\", \"2011-1\", \"2011-2\", \"2011-3\", \"2011-4\", \"2011-5\", \"2011-6\", \"2011-7\", \"2011-8\", \"2011-9\", \"2011-10\", \"2011-11\", \"2011-12\", \"2012-1\", \"2012-2\", \"2012-3\", \"2012-4\", \"2012-5\", \"2012-6\", \"2012-7\", \"2012-8\", \"2012-9\", \"2012-10\", \"2012-11\", \"2012-12\", \"2013-1\", \"2013-2\", \"2013-3\", \"2013-4\", \"2013-5\", \"2013-6\", \"2013-7\", \"2013-8\", \"2013-9\", \"2013-10\", \"2013-11\", \"2013-12\", \"2014-1\", \"2014-2\", \"2014-3\", \"2014-4\", \"2014-5\", \"2014-6\", \"2014-7\", \"2014-8\", \"2014-9\", \"2014-10\", \"2014-11\", \"2014-12\", \"2015-1\", \"2015-2\", \"2015-3\", \"2015-4\", \"2015-5\", \"2015-6\", \"2015-7\", \"2015-8\", \"2015-9\", \"2015-10\", \"2015-11\", \"2015-12\", \"2016-1\", \"2016-2\", \"2016-3\", \"2016-4\", \"2016-5\", \"2016-6\", \"2016-7\"], \"y\": [4930.90257, 4818.393763, 4955.405809, 5159.162183, 5584.691092, 5712.104279, 5306.302874, 5140.155519, 5479.533823, 5679.440782, 5415.832071, 5211.708451, 5802.681551, 5547.32086, 6295.159057, 5988.817321, 6267.516733, 5818.924182, 5801.646978, 5790.850384, 4057.515768, 6016.107147, 5768.48691, 5426.505977, 5703.465285, 5762.451418, 6661.347946, 6618.552152, 6410.578775, 4898.035014, 5296.177638, 7381.34666, 7546.488744, 10172.844562, 6948.678354, 7001.9521, 7568.511227, 6906.248849, 7326.545928, 6835.492088, 7009.799378, 6536.675534, 6571.730164, 6514.500361, 5837.738935, 6974.424665, 7507.641641, 6396.357939, 7808.477339, 7530.127141, 7358.543625, 7220.029422, 7784.479302, 7524.265988, 7819.376527, 7885.641059, 7913.689733, 8379.96005, 8219.987195, 8033.8269, 9126.210673, 8100.597857, 8701.419671, 8049.296729, 8089.099883, 7759.959725, 8237.301982, 9306.122925, 9985.326806, 10775.158269, 10414.877805, 7102.459747, 7026.531269, 6718.243109, 7464.128273, 7216.245221, 7543.277646, 6577.352648, 6761.059566, 6687.313714, 7564.600999, 6577.533128, 6153.537606, 5830.332248, 6103.767055, 5602.710439, 6346.602713, 6198.945657, 6323.801814, 5165.41364, 5229.226022, 5035.534449, 5409.631355, 5535.704471, 5296.956116, 5264.446173, 5569.632502, 5347.709361, 5407.676056, 5572.235399, 5330.532334, 4975.092447, 5363.966439]}, {\"mode\": \"lines\", \"name\": \"pagecount_mobile\", \"type\": \"scatter\", \"x\": [\"2014-12\", \"2015-1\", \"2015-2\", \"2015-3\", \"2015-4\", \"2015-5\", \"2015-6\", \"2015-7\", \"2015-8\", \"2015-9\", \"2015-10\", \"2015-11\", \"2015-12\", \"2016-1\", \"2016-2\", \"2016-3\", \"2016-4\", \"2016-5\", \"2016-6\", \"2016-7\"], \"y\": [3278.950021, 3485.302091, 3091.534479, 3330.832588, 3222.089917, 3334.069483, 3038.162463, 3254.472695, 3268.487582, 3172.429827, 3246.082505, 3218.234512, 3387.411863, 3739.628742, 3333.231392, 3419.853636, 3301.385124, 3418.435805, 3372.618063, 3500.661121]}, {\"mode\": \"lines\", \"name\": \"pageview_all\", \"type\": \"scatter\", \"x\": [\"2015-7\", \"2015-8\", \"2015-9\", \"2015-10\", \"2015-11\", \"2015-12\", \"2016-1\", \"2016-2\", \"2016-3\", \"2016-4\", \"2016-5\", \"2016-6\", \"2016-7\", \"2016-8\", \"2016-9\", \"2016-10\", \"2016-11\", \"2016-12\", \"2017-1\", \"2017-2\", \"2017-3\", \"2017-4\", \"2017-5\", \"2017-6\", \"2017-7\", \"2017-8\", \"2017-9\", \"2017-10\", \"2017-11\", \"2017-12\", \"2018-1\", \"2018-2\", \"2018-3\", \"2018-4\", \"2018-5\", \"2018-6\", \"2018-7\", \"2018-8\", \"2018-9\", \"2018-10\", \"2018-11\", \"2018-12\", \"2019-1\", \"2019-2\", \"2019-3\", \"2019-4\", \"2019-5\", \"2019-6\", \"2019-7\", \"2019-8\", \"2019-9\", \"2019-10\", \"2019-11\", \"2019-12\", \"2020-1\", \"2020-2\", \"2020-3\", \"2020-4\", \"2020-5\", \"2020-6\", \"2020-7\", \"2020-8\"], \"y\": [7665.42198, 7634.815221, 7655.695037, 7746.031887, 7524.32129, 7476.287344, 8154.016303, 7585.859457, 7673.274617, 7408.147859, 7586.81133, 7243.630656, 7834.439589, 8210.865519, 7528.292279, 7871.021581, 7983.113161, 7986.152433, 8753.94194, 7738.463562, 8223.465891, 7591.080111, 7874.558299, 7123.93419, 7290.503797, 7196.978615, 7079.052261, 7580.772181, 7486.072984, 7470.5274, 8371.11606, 7360.334422, 8015.146182, 7690.35353, 7764.840918, 7256.416175, 7723.165341, 7586.49295, 7410.952475, 7714.396331, 7481.996602, 7668.741075, 8213.615007, 7263.03193, 7846.676922, 7591.89841, 7778.725447, 7272.603509, 7697.923994, 7511.637741, 7499.320841, 8094.995348, 7723.707106, 7651.321286, 8272.629865, 7595.321571, 8098.768829, 9304.114554, 8309.79371, 7295.303813, 7448.650597, 7416.3669]}, {\"mode\": \"lines\", \"name\": \"pageview_desktop\", \"type\": \"scatter\", \"x\": [\"2015-7\", \"2015-8\", \"2015-9\", \"2015-10\", \"2015-11\", \"2015-12\", \"2016-1\", \"2016-2\", \"2016-3\", \"2016-4\", \"2016-5\", \"2016-6\", \"2016-7\", \"2016-8\", \"2016-9\", \"2016-10\", \"2016-11\", \"2016-12\", \"2017-1\", \"2017-2\", \"2017-3\", \"2017-4\", \"2017-5\", \"2017-6\", \"2017-7\", \"2017-8\", \"2017-9\", \"2017-10\", \"2017-11\", \"2017-12\", \"2018-1\", \"2018-2\", \"2018-3\", \"2018-4\", \"2018-5\", \"2018-6\", \"2018-7\", \"2018-8\", \"2018-9\", \"2018-10\", \"2018-11\", \"2018-12\", \"2019-1\", \"2019-2\", \"2019-3\", \"2019-4\", \"2019-5\", \"2019-6\", \"2019-7\", \"2019-8\", \"2019-9\", \"2019-10\", \"2019-11\", \"2019-12\", \"2020-1\", \"2020-2\", \"2020-3\", \"2020-4\", \"2020-5\", \"2020-6\", \"2020-7\", \"2020-8\"], \"y\": [4376.666686, 4332.482183, 4485.491704, 4477.532755, 4287.72022, 4100.012037, 4436.179457, 4250.997185, 4286.590426, 4149.383857, 4191.778094, 3888.839711, 4337.865827, 4695.046216, 4135.006498, 4361.73769, 4392.068236, 4209.608578, 4521.980398, 4026.702163, 4319.971902, 3951.456992, 4187.870579, 3604.550997, 3565.444544, 3575.572313, 3547.447892, 3907.651639, 3816.060923, 3640.391096, 4111.833689, 3634.653694, 3965.271925, 3762.955419, 3675.652396, 3278.649434, 3457.051589, 3399.130789, 3433.832231, 3640.606578, 3448.616562, 3379.686909, 3616.017826, 3244.921935, 3439.3866, 3330.234244, 3364.959217, 2986.618238, 3140.657554, 2979.881198, 3061.362632, 3588.403486, 3252.465442, 3097.051994, 3440.480235, 3176.520359, 3412.498274, 3798.372613, 3078.093615, 2721.328557, 2638.936132, 2613.058239]}, {\"line\": {\"color\": \"black\"}, \"mode\": \"lines\", \"name\": \"pageview_mobile\", \"type\": \"scatter\", \"x\": [\"2015-7\", \"2015-8\", \"2015-9\", \"2015-10\", \"2015-11\", \"2015-12\", \"2016-1\", \"2016-2\", \"2016-3\", \"2016-4\", \"2016-5\", \"2016-6\", \"2016-7\", \"2016-8\", \"2016-9\", \"2016-10\", \"2016-11\", \"2016-12\", \"2017-1\", \"2017-2\", \"2017-3\", \"2017-4\", \"2017-5\", \"2017-6\", \"2017-7\", \"2017-8\", \"2017-9\", \"2017-10\", \"2017-11\", \"2017-12\", \"2018-1\", \"2018-2\", \"2018-3\", \"2018-4\", \"2018-5\", \"2018-6\", \"2018-7\", \"2018-8\", \"2018-9\", \"2018-10\", \"2018-11\", \"2018-12\", \"2019-1\", \"2019-2\", \"2019-3\", \"2019-4\", \"2019-5\", \"2019-6\", \"2019-7\", \"2019-8\", \"2019-9\", \"2019-10\", \"2019-11\", \"2019-12\", \"2020-1\", \"2020-2\", \"2020-3\", \"2020-4\", \"2020-5\", \"2020-6\", \"2020-7\", \"2020-8\"], \"y\": [3288.755294, 3302.333038, 3170.203333, 3268.499132, 3236.60107, 3376.275307, 3717.836846, 3334.862272, 3386.684191, 3258.764002, 3395.033236, 3354.790945, 3496.573762, 3515.819303, 3393.285781, 3509.283891, 3591.044925, 3776.543855, 4231.961542, 3711.761399, 3903.493989, 3639.623119, 3686.68772, 3519.383193, 3725.059253, 3621.406302, 3531.604369, 3673.120542, 3670.012061, 3830.136304, 4259.282371, 3725.680728, 4049.874257, 3927.398111, 4089.188522, 3977.766741, 4266.113752, 4187.362161, 3977.120244, 4073.789753, 4033.38004, 4289.054166, 4597.597181, 4018.109995, 4407.290322, 4261.664166, 4413.76623, 4285.985271, 4557.26644, 4531.756543, 4437.958209, 4506.591862, 4471.241664, 4554.269292, 4832.14963, 4418.801212, 4686.270555, 5505.741941, 5231.700095, 4573.975256, 4809.714465, 4803.308661]}],                        {\"template\": {\"data\": {\"bar\": [{\"error_x\": {\"color\": \"#2a3f5f\"}, \"error_y\": {\"color\": \"#2a3f5f\"}, \"marker\": {\"line\": {\"color\": \"#E5ECF6\", \"width\": 0.5}}, \"type\": \"bar\"}], \"barpolar\": [{\"marker\": {\"line\": {\"color\": \"#E5ECF6\", \"width\": 0.5}}, \"type\": \"barpolar\"}], \"carpet\": [{\"aaxis\": {\"endlinecolor\": \"#2a3f5f\", \"gridcolor\": \"white\", \"linecolor\": \"white\", \"minorgridcolor\": \"white\", \"startlinecolor\": \"#2a3f5f\"}, \"baxis\": {\"endlinecolor\": \"#2a3f5f\", \"gridcolor\": \"white\", \"linecolor\": \"white\", \"minorgridcolor\": \"white\", \"startlinecolor\": \"#2a3f5f\"}, \"type\": \"carpet\"}], \"choropleth\": [{\"colorbar\": {\"outlinewidth\": 0, \"ticks\": \"\"}, \"type\": \"choropleth\"}], \"contour\": [{\"colorbar\": {\"outlinewidth\": 0, \"ticks\": \"\"}, \"colorscale\": [[0.0, \"#0d0887\"], [0.1111111111111111, \"#46039f\"], [0.2222222222222222, \"#7201a8\"], [0.3333333333333333, \"#9c179e\"], [0.4444444444444444, \"#bd3786\"], [0.5555555555555556, \"#d8576b\"], [0.6666666666666666, \"#ed7953\"], [0.7777777777777778, \"#fb9f3a\"], [0.8888888888888888, \"#fdca26\"], [1.0, \"#f0f921\"]], \"type\": \"contour\"}], \"contourcarpet\": [{\"colorbar\": {\"outlinewidth\": 0, \"ticks\": \"\"}, \"type\": \"contourcarpet\"}], \"heatmap\": [{\"colorbar\": {\"outlinewidth\": 0, \"ticks\": \"\"}, \"colorscale\": [[0.0, \"#0d0887\"], [0.1111111111111111, \"#46039f\"], [0.2222222222222222, \"#7201a8\"], [0.3333333333333333, \"#9c179e\"], [0.4444444444444444, \"#bd3786\"], [0.5555555555555556, \"#d8576b\"], [0.6666666666666666, \"#ed7953\"], [0.7777777777777778, \"#fb9f3a\"], [0.8888888888888888, \"#fdca26\"], [1.0, \"#f0f921\"]], \"type\": \"heatmap\"}], \"heatmapgl\": [{\"colorbar\": {\"outlinewidth\": 0, \"ticks\": \"\"}, \"colorscale\": [[0.0, \"#0d0887\"], [0.1111111111111111, \"#46039f\"], [0.2222222222222222, \"#7201a8\"], [0.3333333333333333, \"#9c179e\"], [0.4444444444444444, \"#bd3786\"], [0.5555555555555556, \"#d8576b\"], [0.6666666666666666, \"#ed7953\"], [0.7777777777777778, \"#fb9f3a\"], [0.8888888888888888, \"#fdca26\"], [1.0, \"#f0f921\"]], \"type\": \"heatmapgl\"}], \"histogram\": [{\"marker\": {\"colorbar\": {\"outlinewidth\": 0, \"ticks\": \"\"}}, \"type\": \"histogram\"}], \"histogram2d\": [{\"colorbar\": {\"outlinewidth\": 0, \"ticks\": \"\"}, \"colorscale\": [[0.0, \"#0d0887\"], [0.1111111111111111, \"#46039f\"], [0.2222222222222222, \"#7201a8\"], [0.3333333333333333, \"#9c179e\"], [0.4444444444444444, \"#bd3786\"], [0.5555555555555556, \"#d8576b\"], [0.6666666666666666, \"#ed7953\"], [0.7777777777777778, \"#fb9f3a\"], [0.8888888888888888, \"#fdca26\"], [1.0, \"#f0f921\"]], \"type\": \"histogram2d\"}], \"histogram2dcontour\": [{\"colorbar\": {\"outlinewidth\": 0, \"ticks\": \"\"}, \"colorscale\": [[0.0, \"#0d0887\"], [0.1111111111111111, \"#46039f\"], [0.2222222222222222, \"#7201a8\"], [0.3333333333333333, \"#9c179e\"], [0.4444444444444444, \"#bd3786\"], [0.5555555555555556, \"#d8576b\"], [0.6666666666666666, \"#ed7953\"], [0.7777777777777778, \"#fb9f3a\"], [0.8888888888888888, \"#fdca26\"], [1.0, \"#f0f921\"]], \"type\": \"histogram2dcontour\"}], \"mesh3d\": [{\"colorbar\": {\"outlinewidth\": 0, \"ticks\": \"\"}, \"type\": \"mesh3d\"}], \"parcoords\": [{\"line\": {\"colorbar\": {\"outlinewidth\": 0, \"ticks\": \"\"}}, \"type\": \"parcoords\"}], \"pie\": [{\"automargin\": true, \"type\": \"pie\"}], \"scatter\": [{\"marker\": {\"colorbar\": {\"outlinewidth\": 0, \"ticks\": \"\"}}, \"type\": \"scatter\"}], \"scatter3d\": [{\"line\": {\"colorbar\": {\"outlinewidth\": 0, \"ticks\": \"\"}}, \"marker\": {\"colorbar\": {\"outlinewidth\": 0, \"ticks\": \"\"}}, \"type\": \"scatter3d\"}], \"scattercarpet\": [{\"marker\": {\"colorbar\": {\"outlinewidth\": 0, \"ticks\": \"\"}}, \"type\": \"scattercarpet\"}], \"scattergeo\": [{\"marker\": {\"colorbar\": {\"outlinewidth\": 0, \"ticks\": \"\"}}, \"type\": \"scattergeo\"}], \"scattergl\": [{\"marker\": {\"colorbar\": {\"outlinewidth\": 0, \"ticks\": \"\"}}, \"type\": \"scattergl\"}], \"scattermapbox\": [{\"marker\": {\"colorbar\": {\"outlinewidth\": 0, \"ticks\": \"\"}}, \"type\": \"scattermapbox\"}], \"scatterpolar\": [{\"marker\": {\"colorbar\": {\"outlinewidth\": 0, \"ticks\": \"\"}}, \"type\": \"scatterpolar\"}], \"scatterpolargl\": [{\"marker\": {\"colorbar\": {\"outlinewidth\": 0, \"ticks\": \"\"}}, \"type\": \"scatterpolargl\"}], \"scatterternary\": [{\"marker\": {\"colorbar\": {\"outlinewidth\": 0, \"ticks\": \"\"}}, \"type\": \"scatterternary\"}], \"surface\": [{\"colorbar\": {\"outlinewidth\": 0, \"ticks\": \"\"}, \"colorscale\": [[0.0, \"#0d0887\"], [0.1111111111111111, \"#46039f\"], [0.2222222222222222, \"#7201a8\"], [0.3333333333333333, \"#9c179e\"], [0.4444444444444444, \"#bd3786\"], [0.5555555555555556, \"#d8576b\"], [0.6666666666666666, \"#ed7953\"], [0.7777777777777778, \"#fb9f3a\"], [0.8888888888888888, \"#fdca26\"], [1.0, \"#f0f921\"]], \"type\": \"surface\"}], \"table\": [{\"cells\": {\"fill\": {\"color\": \"#EBF0F8\"}, \"line\": {\"color\": \"white\"}}, \"header\": {\"fill\": {\"color\": \"#C8D4E3\"}, \"line\": {\"color\": \"white\"}}, \"type\": \"table\"}]}, \"layout\": {\"annotationdefaults\": {\"arrowcolor\": \"#2a3f5f\", \"arrowhead\": 0, \"arrowwidth\": 1}, \"coloraxis\": {\"colorbar\": {\"outlinewidth\": 0, \"ticks\": \"\"}}, \"colorscale\": {\"diverging\": [[0, \"#8e0152\"], [0.1, \"#c51b7d\"], [0.2, \"#de77ae\"], [0.3, \"#f1b6da\"], [0.4, \"#fde0ef\"], [0.5, \"#f7f7f7\"], [0.6, \"#e6f5d0\"], [0.7, \"#b8e186\"], [0.8, \"#7fbc41\"], [0.9, \"#4d9221\"], [1, \"#276419\"]], \"sequential\": [[0.0, \"#0d0887\"], [0.1111111111111111, \"#46039f\"], [0.2222222222222222, \"#7201a8\"], [0.3333333333333333, \"#9c179e\"], [0.4444444444444444, \"#bd3786\"], [0.5555555555555556, \"#d8576b\"], [0.6666666666666666, \"#ed7953\"], [0.7777777777777778, \"#fb9f3a\"], [0.8888888888888888, \"#fdca26\"], [1.0, \"#f0f921\"]], \"sequentialminus\": [[0.0, \"#0d0887\"], [0.1111111111111111, \"#46039f\"], [0.2222222222222222, \"#7201a8\"], [0.3333333333333333, \"#9c179e\"], [0.4444444444444444, \"#bd3786\"], [0.5555555555555556, \"#d8576b\"], [0.6666666666666666, \"#ed7953\"], [0.7777777777777778, \"#fb9f3a\"], [0.8888888888888888, \"#fdca26\"], [1.0, \"#f0f921\"]]}, \"colorway\": [\"#636efa\", \"#EF553B\", \"#00cc96\", \"#ab63fa\", \"#FFA15A\", \"#19d3f3\", \"#FF6692\", \"#B6E880\", \"#FF97FF\", \"#FECB52\"], \"font\": {\"color\": \"#2a3f5f\"}, \"geo\": {\"bgcolor\": \"white\", \"lakecolor\": \"white\", \"landcolor\": \"#E5ECF6\", \"showlakes\": true, \"showland\": true, \"subunitcolor\": \"white\"}, \"hoverlabel\": {\"align\": \"left\"}, \"hovermode\": \"closest\", \"mapbox\": {\"style\": \"light\"}, \"paper_bgcolor\": \"white\", \"plot_bgcolor\": \"#E5ECF6\", \"polar\": {\"angularaxis\": {\"gridcolor\": \"white\", \"linecolor\": \"white\", \"ticks\": \"\"}, \"bgcolor\": \"#E5ECF6\", \"radialaxis\": {\"gridcolor\": \"white\", \"linecolor\": \"white\", \"ticks\": \"\"}}, \"scene\": {\"xaxis\": {\"backgroundcolor\": \"#E5ECF6\", \"gridcolor\": \"white\", \"gridwidth\": 2, \"linecolor\": \"white\", \"showbackground\": true, \"ticks\": \"\", \"zerolinecolor\": \"white\"}, \"yaxis\": {\"backgroundcolor\": \"#E5ECF6\", \"gridcolor\": \"white\", \"gridwidth\": 2, \"linecolor\": \"white\", \"showbackground\": true, \"ticks\": \"\", \"zerolinecolor\": \"white\"}, \"zaxis\": {\"backgroundcolor\": \"#E5ECF6\", \"gridcolor\": \"white\", \"gridwidth\": 2, \"linecolor\": \"white\", \"showbackground\": true, \"ticks\": \"\", \"zerolinecolor\": \"white\"}}, \"shapedefaults\": {\"line\": {\"color\": \"#2a3f5f\"}}, \"ternary\": {\"aaxis\": {\"gridcolor\": \"white\", \"linecolor\": \"white\", \"ticks\": \"\"}, \"baxis\": {\"gridcolor\": \"white\", \"linecolor\": \"white\", \"ticks\": \"\"}, \"bgcolor\": \"#E5ECF6\", \"caxis\": {\"gridcolor\": \"white\", \"linecolor\": \"white\", \"ticks\": \"\"}}, \"title\": {\"x\": 0.05}, \"xaxis\": {\"automargin\": true, \"gridcolor\": \"white\", \"linecolor\": \"white\", \"ticks\": \"\", \"title\": {\"standoff\": 15}, \"zerolinecolor\": \"white\", \"zerolinewidth\": 2}, \"yaxis\": {\"automargin\": true, \"gridcolor\": \"white\", \"linecolor\": \"white\", \"ticks\": \"\", \"title\": {\"standoff\": 15}, \"zerolinecolor\": \"white\", \"zerolinewidth\": 2}}}, \"title\": {\"text\": \"Page Views on Wikipedia\"}, \"xaxis\": {\"title\": {\"text\": \"Year\"}}, \"yaxis\": {\"title\": {\"text\": \"Page Views\"}}},                        {\"responsive\": true}                    ).then(function(){\n",
       "                            \n",
       "var gd = document.getElementById('7e91d503-1ed0-4b30-916d-692706353b79');\n",
       "var x = new MutationObserver(function (mutations, observer) {{\n",
       "        var display = window.getComputedStyle(gd).display;\n",
       "        if (!display || display === 'none') {{\n",
       "            console.log([gd, 'removed!']);\n",
       "            Plotly.purge(gd);\n",
       "            observer.disconnect();\n",
       "        }}\n",
       "}});\n",
       "\n",
       "// Listen for the removal of the full notebook cells\n",
       "var notebookContainer = gd.closest('#notebook-container');\n",
       "if (notebookContainer) {{\n",
       "    x.observe(notebookContainer, {childList: true});\n",
       "}}\n",
       "\n",
       "// Listen for the clearing of the current output cell\n",
       "var outputEl = gd.closest('.output');\n",
       "if (outputEl) {{\n",
       "    x.observe(outputEl, {childList: true});\n",
       "}}\n",
       "\n",
       "                        })                };                });            </script>        </div>"
      ]
     },
     "metadata": {},
     "output_type": "display_data"
    }
   ],
   "source": [
    "#https://plotly.com/python/line-charts/\n",
    "\n",
    "df = pd.read_csv('en-wikipedia_traffic_200712-202008.csv')\n",
    "df['date'] = df['year'].astype(str) + \"-\" + df['month'].astype(str)\n",
    "\n",
    "\n",
    "#create plot, exclusing values that are non-zero\n",
    "fig = go.Figure()\n",
    "fig = fig.add_trace(go.Scatter(x=df['date'][0:103], y=df['pagecount_all_views'][0:103]/1000000, mode='lines',\n",
    "                    name='pagecount_all'))\n",
    "fig = fig.add_trace(go.Scatter(x=df['date'][0:103], y=df['pagecount_desktop_views'][0:103]/1000000, mode='lines',\n",
    "                    name='pagecount_desktop'))\n",
    "fig = fig.add_trace(go.Scatter(x=df['date'][83:103], y=df['pagecount_mobile_views'][83:103]/1000000, mode='lines',\n",
    "                    name='pagecount_mobile'))\n",
    "fig = fig.add_trace(go.Scatter(x=df['date'][90:], y=df['pageview_all_views'][90:]/1000000, mode='lines',\n",
    "                    name='pageview_all'))\n",
    "fig = fig.add_trace(go.Scatter(x=df['date'][90:], y=df['pageview_desktop_views'][90:]/1000000, mode='lines',\n",
    "                    name='pageview_desktop'))\n",
    "fig = fig.add_trace(go.Scatter(x=df['date'][90:], y=df['pageview_mobile_views'][90:]/1000000, mode='lines',\n",
    "                    name='pageview_mobile', line={'color': 'black'}))\n",
    "\n",
    "#add labels\n",
    "fig.update_layout(title='Page Views on Wikipedia (x1,000,000)',\n",
    "                   xaxis_title='Year',\n",
    "                   yaxis_title='Page Views')\n",
    "\n",
    "fig.show()\n"
   ]
  }
 ],
 "metadata": {
  "kernelspec": {
   "display_name": "Python 3",
   "language": "python",
   "name": "python3"
  },
  "language_info": {
   "codemirror_mode": {
    "name": "ipython",
    "version": 3
   },
   "file_extension": ".py",
   "mimetype": "text/x-python",
   "name": "python",
   "nbconvert_exporter": "python",
   "pygments_lexer": "ipython3",
   "version": "3.7.4"
  }
 },
 "nbformat": 4,
 "nbformat_minor": 2
}
